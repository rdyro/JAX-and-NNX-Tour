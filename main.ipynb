{
 "cells": [
  {
   "cell_type": "code",
   "execution_count": 1,
   "id": "5b97d53a",
   "metadata": {},
   "outputs": [
    {
     "name": "stdout",
     "output_type": "stream",
     "text": [
      "Requirement already satisfied: pip in /home/rdyro_google_com/venv/lib/python3.12/site-packages (25.0.1)\n",
      "Requirement already satisfied: uv in /home/rdyro_google_com/venv/lib/python3.12/site-packages (0.6.17)\n",
      "\u001b[2mUsing Python 3.12.3 environment at: /home/rdyro_google_com/venv\u001b[0m\n",
      "\u001b[2K\u001b[2mResolved \u001b[1m32 packages\u001b[0m \u001b[2min 97ms\u001b[0m\u001b[0m                                         \u001b[0m\n",
      "\u001b[2K\u001b[2mPrepared \u001b[1m1 package\u001b[0m \u001b[2min 0.34ms\u001b[0m\u001b[0m                                             \n",
      "\u001b[1m\u001b[33mwarning\u001b[39m\u001b[0m\u001b[1m:\u001b[0m \u001b[1mFailed to uninstall package at \u001b[36m/home/rdyro_google_com/venv/lib/python3.12/site-packages/ipython-9.1.0.dist-info\u001b[39m due to missing `RECORD` file. Installation may result in an incomplete environment.\u001b[0m\n",
      "\u001b[2mUninstalled \u001b[1m2 packages\u001b[0m \u001b[2min 4ms\u001b[0m\u001b[0m\n",
      "\u001b[2K\u001b[2mInstalled \u001b[1m1 package\u001b[0m \u001b[2min 11ms\u001b[0m\u001b[0m                                 \u001b[0m\n",
      " \u001b[31m-\u001b[39m \u001b[1mipython\u001b[0m\u001b[2m==9.1.0\u001b[0m\n",
      " \u001b[33m~\u001b[39m \u001b[1mipython\u001b[0m\u001b[2m==9.2.0\u001b[0m\n",
      "\u001b[2mUsing Python 3.12.3 environment at: /home/rdyro_google_com/venv\u001b[0m\n",
      "\u001b[2K\u001b[2mResolved \u001b[1m93 packages\u001b[0m \u001b[2min 698ms\u001b[0m\u001b[0m                                        \u001b[0m\n",
      "\u001b[2mAudited \u001b[1m93 packages\u001b[0m \u001b[2min 0.07ms\u001b[0m\u001b[0m\n"
     ]
    }
   ],
   "source": [
    "!pip install -U pip uv\n",
    "!uv pip install -U matplotlib numpy ipympl\n",
    "!uv pip install -U \"jax[cuda]\" tensorboard tensorboard-plugin-profile optax flax torchvision torch --index-url https://download.pytorch.org/whl/cpu\n",
    "\n",
    "#%load_ext matplotlib\n",
    "#%matplotlib widget"
   ]
  },
  {
   "cell_type": "code",
   "execution_count": 2,
   "id": "0ff6500e",
   "metadata": {},
   "outputs": [],
   "source": [
    "import os\n",
    "from functools import partial\n",
    "from pathlib import Path\n",
    "\n",
    "# no GPU VRAM preallocation can hurt efficiency, but lets us observe VRAM usage\n",
    "os.environ[\"XLA_PYTHON_CLIENT_PREALLOCATE\"] = \"false\"  \n",
    "\n",
    "import jax\n",
    "from jax import numpy as jnp\n",
    "from jax import random\n",
    "from jax.sharding import PartitionSpec as P, NamedSharding\n",
    "import optax\n",
    "from tqdm import tqdm\n",
    "\n",
    "import matplotlib.pyplot as plt\n",
    "import numpy as np"
   ]
  },
  {
   "cell_type": "markdown",
   "id": "145c4484",
   "metadata": {},
   "source": [
    "# What is JAX"
   ]
  },
  {
   "cell_type": "code",
   "execution_count": 3,
   "id": "74d48b02",
   "metadata": {},
   "outputs": [
    {
     "data": {
      "text/plain": [
       "Array([1.9092975], dtype=float32)"
      ]
     },
     "execution_count": 3,
     "metadata": {},
     "output_type": "execute_result"
    }
   ],
   "source": [
    "def add(a, b):\n",
    "  return a + jnp.sin(b)\n",
    "\n",
    "add(jnp.ones(1), 2 * jnp.ones(1))  # like numpy"
   ]
  },
  {
   "cell_type": "markdown",
   "id": "d1385853",
   "metadata": {},
   "source": [
    "# How JAX transformations works"
   ]
  },
  {
   "cell_type": "code",
   "execution_count": 4,
   "id": "41c2a1f8",
   "metadata": {},
   "outputs": [],
   "source": [
    "def linear_model(A, x, y):\n",
    "  return jnp.mean((jnp.tanh(x @ A) - y) ** 2)"
   ]
  },
  {
   "cell_type": "code",
   "execution_count": 5,
   "id": "1e8c7e93",
   "metadata": {},
   "outputs": [
    {
     "name": "stdout",
     "output_type": "stream",
     "text": [
      "0.8588184\n"
     ]
    }
   ],
   "source": [
    "keys = iter(random.split(jax.random.key(17), 1024))\n",
    "x = random.normal(next(keys), (1024,))\n",
    "A = random.normal(next(keys), (1024, 16)) / 1024\n",
    "y = random.normal(next(keys), (16,))\n",
    "print(linear_model(A, x, y))"
   ]
  },
  {
   "cell_type": "code",
   "execution_count": 6,
   "id": "a5235731",
   "metadata": {},
   "outputs": [
    {
     "name": "stdout",
     "output_type": "stream",
     "text": [
      "446 μs ± 5.69 μs per loop (mean ± std. dev. of 10 runs, 100 loops each)\n",
      "The slowest run took 5.96 times longer than the fastest. This could mean that an intermediate result is being cached.\n",
      "356 μs ± 332 μs per loop (mean ± std. dev. of 10 runs, 100 loops each)\n"
     ]
    }
   ],
   "source": [
    "%timeit -n 100 -r 10 linear_model(A, x, y).block_until_ready()\n",
    "# first time call will complain about high variance in timing, first call compiles the function\n",
    "# rerun the cell\n",
    "%timeit -n 100 -r 10 jax.jit(linear_model)(A, x, y).block_until_ready()"
   ]
  },
  {
   "cell_type": "code",
   "execution_count": 7,
   "id": "0bc147b9",
   "metadata": {},
   "outputs": [
    {
     "data": {
      "text/plain": [
       "Array(0.8588184, dtype=float32)"
      ]
     },
     "execution_count": 7,
     "metadata": {},
     "output_type": "execute_result"
    }
   ],
   "source": [
    "jit_fn = jax.jit(linear_model)\n",
    "jit_fn(A, x, y)\n",
    "# or simply\n",
    "jax.jit(linear_model)(A, x, y)  # this jit is cached"
   ]
  },
  {
   "cell_type": "code",
   "execution_count": 8,
   "id": "48c4cf3c",
   "metadata": {},
   "outputs": [],
   "source": [
    "dA = jax.grad(linear_model)(A, x, y)\n",
    "dx, dy = jax.grad(linear_model, argnums=(1, 2))(A, x, y)  # provide argnums to get grad wrt non-0 argument"
   ]
  },
  {
   "cell_type": "code",
   "execution_count": 9,
   "id": "ca7d238e",
   "metadata": {},
   "outputs": [
    {
     "data": {
      "text/plain": [
       "Array([[0.125, 0.   , 0.   , 0.   , 0.   , 0.   , 0.   , 0.   , 0.   ,\n",
       "        0.   , 0.   , 0.   , 0.   , 0.   , 0.   , 0.   ],\n",
       "       [0.   , 0.125, 0.   , 0.   , 0.   , 0.   , 0.   , 0.   , 0.   ,\n",
       "        0.   , 0.   , 0.   , 0.   , 0.   , 0.   , 0.   ],\n",
       "       [0.   , 0.   , 0.125, 0.   , 0.   , 0.   , 0.   , 0.   , 0.   ,\n",
       "        0.   , 0.   , 0.   , 0.   , 0.   , 0.   , 0.   ],\n",
       "       [0.   , 0.   , 0.   , 0.125, 0.   , 0.   , 0.   , 0.   , 0.   ,\n",
       "        0.   , 0.   , 0.   , 0.   , 0.   , 0.   , 0.   ],\n",
       "       [0.   , 0.   , 0.   , 0.   , 0.125, 0.   , 0.   , 0.   , 0.   ,\n",
       "        0.   , 0.   , 0.   , 0.   , 0.   , 0.   , 0.   ],\n",
       "       [0.   , 0.   , 0.   , 0.   , 0.   , 0.125, 0.   , 0.   , 0.   ,\n",
       "        0.   , 0.   , 0.   , 0.   , 0.   , 0.   , 0.   ],\n",
       "       [0.   , 0.   , 0.   , 0.   , 0.   , 0.   , 0.125, 0.   , 0.   ,\n",
       "        0.   , 0.   , 0.   , 0.   , 0.   , 0.   , 0.   ],\n",
       "       [0.   , 0.   , 0.   , 0.   , 0.   , 0.   , 0.   , 0.125, 0.   ,\n",
       "        0.   , 0.   , 0.   , 0.   , 0.   , 0.   , 0.   ],\n",
       "       [0.   , 0.   , 0.   , 0.   , 0.   , 0.   , 0.   , 0.   , 0.125,\n",
       "        0.   , 0.   , 0.   , 0.   , 0.   , 0.   , 0.   ],\n",
       "       [0.   , 0.   , 0.   , 0.   , 0.   , 0.   , 0.   , 0.   , 0.   ,\n",
       "        0.125, 0.   , 0.   , 0.   , 0.   , 0.   , 0.   ],\n",
       "       [0.   , 0.   , 0.   , 0.   , 0.   , 0.   , 0.   , 0.   , 0.   ,\n",
       "        0.   , 0.125, 0.   , 0.   , 0.   , 0.   , 0.   ],\n",
       "       [0.   , 0.   , 0.   , 0.   , 0.   , 0.   , 0.   , 0.   , 0.   ,\n",
       "        0.   , 0.   , 0.125, 0.   , 0.   , 0.   , 0.   ],\n",
       "       [0.   , 0.   , 0.   , 0.   , 0.   , 0.   , 0.   , 0.   , 0.   ,\n",
       "        0.   , 0.   , 0.   , 0.125, 0.   , 0.   , 0.   ],\n",
       "       [0.   , 0.   , 0.   , 0.   , 0.   , 0.   , 0.   , 0.   , 0.   ,\n",
       "        0.   , 0.   , 0.   , 0.   , 0.125, 0.   , 0.   ],\n",
       "       [0.   , 0.   , 0.   , 0.   , 0.   , 0.   , 0.   , 0.   , 0.   ,\n",
       "        0.   , 0.   , 0.   , 0.   , 0.   , 0.125, 0.   ],\n",
       "       [0.   , 0.   , 0.   , 0.   , 0.   , 0.   , 0.   , 0.   , 0.   ,\n",
       "        0.   , 0.   , 0.   , 0.   , 0.   , 0.   , 0.125]], dtype=float32)"
      ]
     },
     "execution_count": 9,
     "metadata": {},
     "output_type": "execute_result"
    }
   ],
   "source": [
    "jax.jit(jax.hessian(linear_model, argnums=2))(A, x, y)  # higher order derivatives very fast with JIT"
   ]
  },
  {
   "cell_type": "code",
   "execution_count": 10,
   "id": "b84e696e",
   "metadata": {},
   "outputs": [
    {
     "name": "stdout",
     "output_type": "stream",
     "text": [
      "{ lambda ; a:i32[]. let b:i32[] = integer_pow[y=2] a in (b,) }\n",
      "-------------------------------------\n",
      "{ lambda ; a:f32[]. let\n",
      "    _:f32[] = integer_pow[y=2] a\n",
      "    b:f32[] = integer_pow[y=1] a\n",
      "    c:f32[] = mul 2.0 b\n",
      "    d:f32[] = mul 1.0 c\n",
      "  in (d,) }\n"
     ]
    }
   ],
   "source": [
    "# jaxpr are unoptimized jax programs intermediate representation\n",
    "print(jax.make_jaxpr(lambda x: x ** 2)(1))\n",
    "print(\"-------------------------------------\")\n",
    "# grad is just a transformation of the program\n",
    "print(jax.make_jaxpr(jax.grad(lambda x: x ** 2))(1.0))"
   ]
  },
  {
   "cell_type": "code",
   "execution_count": 11,
   "id": "32dc680d",
   "metadata": {},
   "outputs": [],
   "source": [
    "X = jax.random.normal(next(keys), (128, 1024))\n",
    "Y = jax.random.normal(next(keys), (128, 16))"
   ]
  },
  {
   "cell_type": "code",
   "execution_count": 12,
   "id": "b8e1fd3c",
   "metadata": {},
   "outputs": [
    {
     "data": {
      "text/plain": [
       "(128,)"
      ]
     },
     "execution_count": 12,
     "metadata": {},
     "output_type": "execute_result"
    }
   ],
   "source": [
    "# in_axes=(\n",
    "#   None,   # broadcast first argument\n",
    "#   0,      # batch over the first axis\n",
    "#   0       # batch over the first axis\n",
    "# )\n",
    "jax.vmap(linear_model, in_axes=(None, 0, 0))(A, X, Y).shape\n",
    "# 128 losses"
   ]
  },
  {
   "cell_type": "markdown",
   "id": "73f1fb1b",
   "metadata": {},
   "source": [
    "### Working with pytrees\n",
    "\n",
    "JAX uses pytrees to map over arbitrarily nested containers.\n",
    "\n",
    "* `jax.tree.map` - applies a transformation to data\n",
    "* `jax.tree.leaves` - flattens all data into a list\n",
    "* `jax.tree.structure` - gives you the pytree structure without data\n",
    "* `jax.tree.flatten` - outputs a tuple of struct and flat list of leaves\n",
    "* `jax.tree.unflatten` - combines a pytree structure and a flat list of leaves\n",
    "\n",
    "Most functions accept pytrees!"
   ]
  },
  {
   "cell_type": "code",
   "execution_count": 13,
   "id": "05acd374",
   "metadata": {},
   "outputs": [
    {
     "data": {
      "text/plain": [
       "{'layer_embed': Array([[1., 1.],\n",
       "        [1., 1.]], dtype=float32),\n",
       " 'layers': [1, 2, 3, Array([1., 1.], dtype=float32)],\n",
       " 'names': ['model', ('alternative', 'names')]}"
      ]
     },
     "execution_count": 13,
     "metadata": {},
     "output_type": "execute_result"
    }
   ],
   "source": [
    "model = {\n",
    "    \"layer_embed\": jnp.ones((2, 2)),\n",
    "    \"layers\": [1, 2, 3, jnp.ones(2)],\n",
    "    \"names\": [\"model\", (\"alternative\", \"names\")]\n",
    "}\n",
    "\n",
    "model"
   ]
  },
  {
   "cell_type": "code",
   "execution_count": 14,
   "id": "e66ed36b",
   "metadata": {},
   "outputs": [
    {
     "data": {
      "text/plain": [
       "[Array([[1., 1.],\n",
       "        [1., 1.]], dtype=float32),\n",
       " 1,\n",
       " 2,\n",
       " 3,\n",
       " Array([1., 1.], dtype=float32),\n",
       " 'model',\n",
       " 'alternative',\n",
       " 'names']"
      ]
     },
     "execution_count": 14,
     "metadata": {},
     "output_type": "execute_result"
    }
   ],
   "source": [
    "jax.tree.leaves(model)"
   ]
  },
  {
   "cell_type": "code",
   "execution_count": 15,
   "id": "841f0f52",
   "metadata": {},
   "outputs": [
    {
     "data": {
      "text/plain": [
       "PyTreeDef({'layer_embed': *, 'layers': [*, *, *, *], 'names': [*, (*, *)]})"
      ]
     },
     "execution_count": 15,
     "metadata": {},
     "output_type": "execute_result"
    }
   ],
   "source": [
    "jax.tree.structure(model)"
   ]
  },
  {
   "cell_type": "code",
   "execution_count": 16,
   "id": "327faf96",
   "metadata": {},
   "outputs": [
    {
     "data": {
      "text/plain": [
       "{'layer_embed': None,\n",
       " 'layers': [None, None, None, None],\n",
       " 'names': [None, (None, None)]}"
      ]
     },
     "execution_count": 16,
     "metadata": {},
     "output_type": "execute_result"
    }
   ],
   "source": [
    "jax.tree.map(lambda x: None, model)"
   ]
  },
  {
   "cell_type": "markdown",
   "id": "788c9ead",
   "metadata": {},
   "source": [
    "# Neural Networks with NNX"
   ]
  },
  {
   "cell_type": "markdown",
   "id": "d8337ad9",
   "metadata": {},
   "source": [
    "| Framework   | Origin      | Key Characteristics             | Status / Notes                                   |\n",
    "|-------------|-------------|---------------------------------|--------------------------------------------------|\n",
    "| haiku       | from GDM    | Early JAX NN library            | **Deprecated**                                   |\n",
    "| equinox     | third party | Simple and powerful stateful/functional library | Has a lot of fans, treat all models and modules as pytrees  |\n",
    "| flax.linen  | from GDM    | Original `flax` interface | In active use, useful for some applications      |\n",
    "| flax.nnx    | from GDM    | New stateful `flax` interface     | Supports model surgery, **Recommended for new projects**, Stateful modules similar to PyTorch |"
   ]
  },
  {
   "cell_type": "code",
   "execution_count": 17,
   "id": "169da425",
   "metadata": {},
   "outputs": [],
   "source": [
    "from flax import nnx\n",
    "\n",
    "class Model(nnx.Module):\n",
    "  def __init__(self, *, rngs: nnx.Rngs):\n",
    "    self.embed = nnx.Linear(1, 128, rngs=rngs)\n",
    "    self.ws = [nnx.Linear(128, 128, rngs=rngs) for _ in range(16)]\n",
    "    self.out_project = nnx.Linear(128, 1, rngs=rngs)\n",
    "    \n",
    "  def __call__(self, x):\n",
    "    z = jax.nn.relu(self.embed(x))\n",
    "    for w in self.ws:\n",
    "      z = jax.nn.relu(w(z))\n",
    "    return self.out_project(z)"
   ]
  },
  {
   "cell_type": "code",
   "execution_count": 18,
   "id": "34c2f1af",
   "metadata": {},
   "outputs": [],
   "source": [
    "rngs = nnx.Rngs(0)  # we need a random key generator for deterministic randomness\n",
    "model = Model(rngs=nnx.Rngs(0))  # model initialized like a Python class (it is a Python object)\n",
    "graphdef, state = nnx.split(model)  # split the model into its (graph) definition and its JAX state"
   ]
  },
  {
   "cell_type": "code",
   "execution_count": 19,
   "id": "4422fcf5",
   "metadata": {},
   "outputs": [
    {
     "name": "stdout",
     "output_type": "stream",
     "text": [
      "[[ 1.0701778  -0.9697271  -0.80445254 -1.2385126  -0.9333001   0.63547826\n",
      "   0.77888346 -1.0921763   1.687579   -1.8619802  -1.3531601   0.14494109\n",
      "  -1.2203475   0.25944272  1.754148    0.54584336  0.6421062  -0.5113206\n",
      "   0.9793505   0.39117435 -0.68375415 -0.93252856  0.81521004  1.1299591\n",
      "   0.9718173  -0.5322273   0.95122933  1.674182   -2.1652231   0.47795188\n",
      "   1.8091652  -1.2402649  -0.6353485   2.0182462   0.8608911  -0.21413715\n",
      "  -1.7502464  -0.8813473  -2.1150775   1.5953505   1.4630404   0.3794973\n",
      "   0.06777589  1.2143842  -0.23038422 -0.3679456   0.7417922  -0.36747482\n",
      "   0.53188926  0.22945221 -1.8056844   1.857207    0.90616226  1.7088882\n",
      "   1.6748439  -0.8291112   1.2752287  -1.0365843   1.1381445  -0.19218571\n",
      "   0.9254915   0.43859228 -0.6696252   0.24980658 -2.1557667  -0.7694132\n",
      "  -0.2032781   2.1232479  -1.7933295  -1.1030672  -1.3330144  -1.5496525\n",
      "   0.09246044  1.7974176   1.3423549   0.5320915   0.5720489   0.74400496\n",
      "   0.90918857 -0.13917612 -0.72048926  1.5399148  -0.17842773 -1.7859924\n",
      "  -0.6578584   1.8606224  -0.4037398   2.2057512  -0.56645876  1.4326571\n",
      "  -0.8779578   1.2424318   0.36007816  0.1564527   1.8357239  -0.4336448\n",
      "  -1.4845656   0.7288949  -0.34245428 -1.3171043  -2.2133536   0.37355405\n",
      "  -0.5539175   2.0319703  -1.0900635   1.2865397  -0.7831927  -1.3264685\n",
      "   0.19159688 -0.69263756  0.9178169   0.83232427 -0.22069025  1.6827685\n",
      "  -1.7043679   0.67625123  1.1789489   0.4895394   1.2635392  -0.30687255\n",
      "  -1.6908891   0.03419877 -0.8004201   1.3599228   1.0475494  -0.28510946\n",
      "   1.0111239  -0.35047475]]\n",
      "[[ 2.1403556  -1.9394542  -1.6089051  -2.4770253  -1.8666002   1.2709565\n",
      "   1.5577669  -2.1843526   3.375158   -3.7239604  -2.7063203   0.28988218\n",
      "  -2.440695    0.51888543  3.508296    1.0916867   1.2842124  -1.0226412\n",
      "   1.958701    0.7823487  -1.3675083  -1.8650571   1.6304201   2.2599182\n",
      "   1.9436346  -1.0644546   1.9024587   3.348364   -4.3304462   0.95590377\n",
      "   3.6183305  -2.4805298  -1.270697    4.0364923   1.7217822  -0.4282743\n",
      "  -3.5004928  -1.7626946  -4.230155    3.190701    2.9260807   0.7589946\n",
      "   0.13555178  2.4287684  -0.46076843 -0.7358912   1.4835844  -0.73494965\n",
      "   1.0637785   0.45890442 -3.611369    3.714414    1.8123245   3.4177763\n",
      "   3.3496878  -1.6582224   2.5504575  -2.0731685   2.276289   -0.38437143\n",
      "   1.850983    0.87718457 -1.3392504   0.49961317 -4.3115335  -1.5388263\n",
      "  -0.4065562   4.2464957  -3.586659   -2.2061343  -2.6660287  -3.099305\n",
      "   0.18492088  3.5948353   2.6847098   1.064183    1.1440978   1.4880099\n",
      "   1.8183771  -0.27835223 -1.4409785   3.0798297  -0.35685545 -3.5719848\n",
      "  -1.3157167   3.7212448  -0.8074796   4.4115024  -1.1329175   2.8653142\n",
      "  -1.7559156   2.4848635   0.7201563   0.3129054   3.6714478  -0.8672896\n",
      "  -2.9691312   1.4577898  -0.68490857 -2.6342087  -4.4267073   0.7471081\n",
      "  -1.107835    4.0639405  -2.180127    2.5730793  -1.5663854  -2.652937\n",
      "   0.38319376 -1.3852751   1.8356338   1.6646485  -0.4413805   3.365537\n",
      "  -3.4087358   1.3525025   2.3578978   0.9790788   2.5270784  -0.6137451\n",
      "  -3.3817782   0.06839754 -1.6008402   2.7198455   2.0950987  -0.5702189\n",
      "   2.0222478  -0.7009495 ]]\n"
     ]
    }
   ],
   "source": [
    "# you can modify model in place, perform surgery\n",
    "print(model.embed.kernel.value)\n",
    "model.embed.kernel.value *= 2\n",
    "print(model.embed.kernel.value)\n",
    "\n",
    "# need to split into state again\n",
    "graphdef, state = nnx.split(model)\n",
    "# or just get the state\n",
    "state = nnx.state(model)"
   ]
  },
  {
   "cell_type": "code",
   "execution_count": 20,
   "id": "d4cc9261",
   "metadata": {},
   "outputs": [
    {
     "name": "stdout",
     "output_type": "stream",
     "text": [
      "Model size = 1.058308 MB\n"
     ]
    }
   ],
   "source": [
    "model_size = jax.tree.reduce(         # reduce to add all byte sizes\n",
    "  lambda x, y: x + y,\n",
    "  jax.tree.map(                       #  map to get byte size of each leaf\n",
    "    lambda x: x.itemsize * x.size,\n",
    "    state)\n",
    ")\n",
    "print(f\"Model size = {model_size / 1e6} MB\")"
   ]
  },
  {
   "cell_type": "code",
   "execution_count": null,
   "id": "9e24cab7",
   "metadata": {},
   "outputs": [],
   "source": [
    "# state is a pytree\n",
    "state"
   ]
  },
  {
   "cell_type": "code",
   "execution_count": null,
   "id": "4c2c9ec3",
   "metadata": {},
   "outputs": [],
   "source": [
    "# graphdef is the model skeleton\n",
    "graphdef"
   ]
  },
  {
   "cell_type": "code",
   "execution_count": 23,
   "id": "4a43c4f9",
   "metadata": {},
   "outputs": [],
   "source": [
    "@jax.jit\n",
    "def forward(state, x):\n",
    "  model = nnx.merge(graphdef, state) # merge the model graph and the model state\n",
    "  return model(x)\n",
    "  \n",
    "@jax.jit\n",
    "def loss_fn(state, x, y):\n",
    "  yp = forward(state, x)\n",
    "  return jnp.mean(jnp.linalg.norm(y - yp, axis=-1) ** 2)\n",
    "\n",
    "grad_fn = jax.jit(jax.grad(loss_fn, argnums=0))"
   ]
  },
  {
   "cell_type": "code",
   "execution_count": 24,
   "id": "7f5769a1",
   "metadata": {},
   "outputs": [
    {
     "data": {
      "text/plain": [
       "<matplotlib.collections.PathCollection at 0x763e5822f020>"
      ]
     },
     "execution_count": 24,
     "metadata": {},
     "output_type": "execute_result"
    },
    {
     "data": {
      "image/png": "[encoded data removed]",
      "text/plain": [
       "<Figure size 640x480 with 1 Axes>"
      ]
     },
     "metadata": {},
     "output_type": "display_data"
    }
   ],
   "source": [
    "# synthetic data with most points concentrated in the middle\n",
    "\n",
    "X = 3e0 * random.normal(rngs(), (1024, 1))\n",
    "Y = jnp.cos(X) + 1e-1 * random.normal(rngs(), X.shape)\n",
    "\n",
    "plt.figure()\n",
    "plt.scatter(X[..., 0], Y[..., 0], marker=\".\")\n",
    "Yp = forward(state, X)\n",
    "plt.scatter(X[..., 0], Yp[..., 0], marker=\".\")"
   ]
  },
  {
   "cell_type": "code",
   "execution_count": 25,
   "id": "18f874b2",
   "metadata": {},
   "outputs": [
    {
     "name": "stderr",
     "output_type": "stream",
     "text": [
      "loss = 1.6381e-02: 100%|██████████| 4000/4000 [00:24<00:00, 161.29it/s]\n"
     ]
    }
   ],
   "source": [
    "optimizer = optax.adam(1e-5)\n",
    "\n",
    "@jax.jit # want to compile the top level function\n",
    "def train_step(x, y, state, opt_state):\n",
    "  loss = loss_fn(state, x, y)\n",
    "  gs = jax.grad(loss_fn, argnums=0)(state, x, y) # recomputation, but ok, compiler will merge it\n",
    "  updates, opt_state = optimizer.update(gs, opt_state)\n",
    "  new_state = optax.apply_updates(state, updates)\n",
    "  return loss, new_state, opt_state\n",
    "\n",
    "state = nnx.state(model)\n",
    "opt_state = optimizer.init(state)\n",
    "\n",
    "pbar = tqdm(range(int(4e3)))\n",
    "for _ in pbar:\n",
    "  ridx = random.randint(rngs(), (64,), 0, X.shape[0])\n",
    "  x, y = X[ridx, :], Y[ridx, :]\n",
    "  l, state, opt_state = train_step(x, y, state, opt_state)\n",
    "  pbar.set_description(f\"loss = {l:.4e}\")"
   ]
  },
  {
   "cell_type": "code",
   "execution_count": 26,
   "id": "b90a6a0c",
   "metadata": {},
   "outputs": [
    {
     "data": {
      "text/plain": [
       "<matplotlib.collections.PathCollection at 0x763e385d4530>"
      ]
     },
     "execution_count": 26,
     "metadata": {},
     "output_type": "execute_result"
    },
    {
     "data": {
      "image/png": "[encoded data removed]",
      "text/plain": [
       "<Figure size 640x480 with 1 Axes>"
      ]
     },
     "metadata": {},
     "output_type": "display_data"
    }
   ],
   "source": [
    "X_sort = jnp.sort(X, axis=0)\n",
    "Yp_sort = forward(state, X_sort)\n",
    "plt.figure()\n",
    "plt.plot(X_sort[:, 0], Yp_sort[:, 0], color=\"red\")\n",
    "plt.scatter(X[:, 0], Y[:, 0], marker=\".\")"
   ]
  },
  {
   "cell_type": "code",
   "execution_count": 27,
   "id": "5db1e274",
   "metadata": {},
   "outputs": [],
   "source": [
    "# static argnuments are non-numeric or for Python control flow\n",
    "# must be declared explicitly because JAX is trying to compile as much as possible\n",
    "@partial(jax.jit, static_argnames=(\"loss_fn\",)) \n",
    "def train_step(x, y, state, opt_state, loss_fn=None):\n",
    "  loss = loss_fn(state, x, y)\n",
    "  gs = jax.grad(loss_fn, argnums=0)(state, x, y) # recomputation, but ok, compiler will merge it\n",
    "  updates, opt_state = optimizer.update(gs, opt_state)\n",
    "  new_state = optax.apply_updates(state, updates)\n",
    "  return loss, new_state, opt_state"
   ]
  },
  {
   "cell_type": "code",
   "execution_count": 28,
   "id": "1046868b",
   "metadata": {},
   "outputs": [
    {
     "name": "stderr",
     "output_type": "stream",
     "text": [
      "loss = 1.7664e+00: 100%|██████████| 4000/4000 [00:23<00:00, 172.86it/s]\n"
     ]
    }
   ],
   "source": [
    "@jax.jit\n",
    "def weighted_loss_fn(state, x, y):\n",
    "  yp = forward(state, x)\n",
    "  per_example_loss = jnp.sum((y - yp) ** 2, axis=-1)\n",
    "  return jnp.mean(1e1 * jnp.abs(x[..., 0]) * per_example_loss) # weigh examples farther from zero more\n",
    "\n",
    "pbar = tqdm(range(int(4e3)))\n",
    "for _ in pbar:\n",
    "  ridx = random.randint(rngs(), (64,), 0, X.shape[0])\n",
    "  x, y = X[ridx, :], Y[ridx, :]\n",
    "  l, state, opt_state = train_step(x, y, state, opt_state, loss_fn=weighted_loss_fn)\n",
    "  pbar.set_description(f\"loss = {l:.4e}\")"
   ]
  },
  {
   "cell_type": "code",
   "execution_count": 29,
   "id": "e8ada55f",
   "metadata": {},
   "outputs": [
    {
     "data": {
      "text/plain": [
       "<matplotlib.collections.PathCollection at 0x763e58246990>"
      ]
     },
     "execution_count": 29,
     "metadata": {},
     "output_type": "execute_result"
    },
    {
     "data": {
      "image/png": "[encoded data removed]",
      "text/plain": [
       "<Figure size 640x480 with 1 Axes>"
      ]
     },
     "metadata": {},
     "output_type": "display_data"
    }
   ],
   "source": [
    "X_sort = jnp.sort(X, axis=0)\n",
    "Yp_sort = forward(state, X_sort)\n",
    "plt.figure()\n",
    "plt.plot(X_sort[:, 0], Yp_sort[:, 0], color=\"red\")\n",
    "plt.scatter(X[:, 0], Y[:, 0], marker=\".\")"
   ]
  },
  {
   "cell_type": "markdown",
   "id": "8fff61c9",
   "metadata": {},
   "source": [
    "# Robotics + RL\n",
    "\n",
    "### Loop unrolling and JAX control flow"
   ]
  },
  {
   "cell_type": "code",
   "execution_count": null,
   "id": "4706cb62",
   "metadata": {},
   "outputs": [],
   "source": [
    "# calling train step from eager mode can have a small overhead (~1-5 ms on GPUs, less on other platforms)\n",
    "\n",
    "# we can unroll the training loop\n",
    "@partial(jax.jit, static_argnames=(\"steps\", \"loss_fn\",))\n",
    "def train_n_steps(x, y, state, opt_state, steps, loss_fn=None):\n",
    "  # steps is a static variable\n",
    "\n",
    "  loss_history = []\n",
    "  for i in range(steps):  # unroll the loop inside the jitted function\n",
    "    x_, y_ = x[i, ...], y[i, ...]\n",
    "    loss, state, opt_state = train_step(x_, y_, state, opt_state, loss_fn=loss_fn)\n",
    "    loss_history.append(loss)\n",
    "\n",
    "  return jnp.stack(loss_history), state, opt_state"
   ]
  },
  {
   "cell_type": "code",
   "execution_count": 37,
   "id": "70ee62f0",
   "metadata": {},
   "outputs": [
    {
     "name": "stderr",
     "output_type": "stream",
     "text": [
      "losses = 4.8804e-01:   0%|          | 0/50 [00:00<?, ?it/s]"
     ]
    },
    {
     "name": "stderr",
     "output_type": "stream",
     "text": [
      "losses = 5.5561e-01: 100%|██████████| 50/50 [00:00<00:00, 153.63it/s]\n"
     ]
    }
   ],
   "source": [
    "state = nnx.state(Model(rngs=rngs))\n",
    "opt_state = optimizer.init(state)\n",
    "\n",
    "pbar = tqdm(range(int(50)))\n",
    "steps = 3\n",
    "for _ in pbar:\n",
    "  ridx = random.randint(rngs(), (steps * 64,), 0, X.shape[0])\n",
    "  x, y = X[ridx, :], Y[ridx, :]\n",
    "  x, y = x.reshape((steps, 64, 1)), y.reshape((steps, 64, 1))\n",
    "  l, state, opt_state = train_n_steps(x, y, state, opt_state, steps=steps, loss_fn=loss_fn)\n",
    "  pbar.set_description(f\"losses = {l[-1]:.4e}\")\n",
    "  \n",
    "  # each iteration is actually 3 iterations"
   ]
  },
  {
   "cell_type": "code",
   "execution_count": 38,
   "id": "bb2a1496",
   "metadata": {},
   "outputs": [],
   "source": [
    "# we can unroll the training loop\n",
    "@partial(jax.jit, static_argnames=(\"loss_fn\",))\n",
    "def train_n_steps(x, y, state, opt_state, steps, loss_fn=None):\n",
    "  # steps no longer needs to be a static variable\n",
    "\n",
    "  def loop_body(i, carry):\n",
    "    loss_history, state, opt_state = carry\n",
    "    x_ = jax.lax.dynamic_index_in_dim(x, i, axis=0)  # single batch from a stack of batches\n",
    "    y_ = jax.lax.dynamic_index_in_dim(y, i, axis=0)  # single batch from a stack of batches\n",
    "    loss, state, opt_state = train_step(x_, y_, state, opt_state, loss_fn=loss_fn)\n",
    "    loss_history = jax.lax.dynamic_update_index_in_dim(loss_history, loss, i, axis=0)\n",
    "    return loss_history, state, opt_state\n",
    "    \n",
    "  loss_history = jnp.zeros((1024,))  # overallocate\n",
    "  loss_history, state, opt_state = jax.lax.fori_loop(0, steps, loop_body, (loss_history, state, opt_state))\n",
    "  return loss_history, state, opt_state"
   ]
  },
  {
   "cell_type": "code",
   "execution_count": 39,
   "id": "1f47f16e",
   "metadata": {},
   "outputs": [
    {
     "name": "stderr",
     "output_type": "stream",
     "text": [
      "  0%|          | 0/50 [00:00<?, ?it/s]"
     ]
    },
    {
     "name": "stderr",
     "output_type": "stream",
     "text": [
      "losses = 0.0000e+00: 100%|██████████| 50/50 [00:03<00:00, 13.29it/s]\n"
     ]
    }
   ],
   "source": [
    "state = nnx.state(Model(rngs=rngs))\n",
    "opt_state = optimizer.init(state)\n",
    "\n",
    "pbar = tqdm(range(int(50)))\n",
    "steps = 100\n",
    "for _ in pbar:\n",
    "  ridx = random.randint(rngs(), (steps * 64,), 0, X.shape[0])\n",
    "  x, y = X[ridx, :], Y[ridx, :]\n",
    "  x, y = x.reshape((steps, 64, 1)), y.reshape((steps, 64, 1))\n",
    "  l, state, opt_state = train_n_steps(x, y, state, opt_state, steps=steps, loss_fn=loss_fn)\n",
    "  pbar.set_description(f\"losses = {l[-1]:.4e}\")\n",
    "  \n",
    "  # each iteration is actually 100 iterations"
   ]
  },
  {
   "cell_type": "markdown",
   "id": "22513d63",
   "metadata": {},
   "source": [
    "### What about a dynamic iteration count?"
   ]
  },
  {
   "cell_type": "code",
   "execution_count": 40,
   "id": "f9568b01",
   "metadata": {},
   "outputs": [],
   "source": [
    "# train for n steps or until you encounter a nan loss\n",
    "\n",
    "@partial(jax.jit, static_argnames=(\"loss_fn\",))\n",
    "def train_n_steps_maybe_stop_early(x, y, state, opt_state, steps, loss_fn=None):\n",
    "  # steps no longer needs to be a static variable\n",
    "\n",
    "  def loop_body(i, carry):\n",
    "    loss_history, state, opt_state, done = carry\n",
    "    x_ = jax.lax.dynamic_index_in_dim(x, i, axis=0)\n",
    "    y_ = jax.lax.dynamic_index_in_dim(y, i, axis=0)\n",
    "    loss, state, opt_state = train_step(x_, y_, state, opt_state, loss_fn=loss_fn)\n",
    "    loss_history = jax.lax.dynamic_update_index_in_dim(loss_history, loss, i, axis=0)\n",
    "\n",
    "    done = done | jnp.isnan(loss)  # update the done state\n",
    "\n",
    "    return loss_history, state, opt_state, done\n",
    "\n",
    "  def lazy_loop_body(i, carry):\n",
    "    done = carry[-1]\n",
    "    new_carry = jax.lax.cond(done, \n",
    "                             lambda: carry,\n",
    "                             lambda: loop_body(i, carry))\n",
    "    return new_carry\n",
    "\n",
    "  loss_history = jnp.zeros((1024,))  # cannot use steps, need to overallocate\n",
    "  done = False\n",
    "  init_val = (loss_history, state, opt_state, done)\n",
    "  steps = (2 ** jnp.ceil(jnp.log2(steps))).astype(jnp.int32)  # just for fun, use an even power of 2 iterations\n",
    "  loss_history, state, opt_state, done = jax.lax.fori_loop(0, steps, lazy_loop_body, init_val)\n",
    "  return loss_history, state, opt_state"
   ]
  },
  {
   "cell_type": "code",
   "execution_count": 41,
   "id": "45b23705",
   "metadata": {},
   "outputs": [
    {
     "name": "stderr",
     "output_type": "stream",
     "text": [
      "  0%|          | 0/50 [00:00<?, ?it/s]"
     ]
    },
    {
     "name": "stderr",
     "output_type": "stream",
     "text": [
      "losses = 0.0000e+00: 100%|██████████| 50/50 [00:05<00:00,  9.40it/s]\n"
     ]
    }
   ],
   "source": [
    "state = nnx.state(Model(rngs=rngs))\n",
    "opt_state = optimizer.init(state)\n",
    "\n",
    "pbar = tqdm(range(int(50)))\n",
    "steps = 100\n",
    "for _ in pbar:\n",
    "  ridx = random.randint(rngs(), (steps * 64,), 0, X.shape[0])\n",
    "  x, y = X[ridx, :], Y[ridx, :]\n",
    "  x, y = x.reshape((steps, 64, 1)), y.reshape((steps, 64, 1))\n",
    "  l, state, opt_state = train_n_steps_maybe_stop_early(x, y, state, opt_state, steps=steps, loss_fn=loss_fn)\n",
    "  pbar.set_description(f\"losses = {l[-1]:.4e}\")"
   ]
  },
  {
   "cell_type": "markdown",
   "id": "df79d5a5",
   "metadata": {},
   "source": [
    "### JAX control flow\n",
    "\n",
    "### [https://docs.jax.dev/en/latest/control-flow.html](https://docs.jax.dev/en/latest/control-flow.html)\n",
    "\n",
    "<img src=\"images/jax_control_flow.png\" style=\"max-width:800px\">\n",
    "<!--![images/jax_control_flow.png](images/jax_control_flow.png)-->"
   ]
  },
  {
   "cell_type": "markdown",
   "id": "954ad939",
   "metadata": {},
   "source": [
    "# Train on actual data"
   ]
  },
  {
   "cell_type": "code",
   "execution_count": 42,
   "id": "cd19d410",
   "metadata": {},
   "outputs": [
    {
     "name": "stderr",
     "output_type": "stream",
     "text": [
      "100%|██████████| 60000/60000 [00:02<00:00, 26623.05it/s]\n"
     ]
    }
   ],
   "source": [
    "from torchvision import datasets\n",
    "from torch.utils.data import DataLoader  # use torch dataloader to set up data\n",
    "\n",
    "def collate_fn(data):\n",
    "  return np.stack([arg[0] for arg in data]), np.array([arg[1] for arg in data])\n",
    "\n",
    "ds = datasets.MNIST(\".\", download=True)\n",
    "dl = DataLoader([(np.array(image), cls) for image, cls in tqdm(ds)], 128, shuffle=True, collate_fn=collate_fn, drop_last=True)"
   ]
  },
  {
   "cell_type": "code",
   "execution_count": 43,
   "id": "d552bbd9",
   "metadata": {},
   "outputs": [],
   "source": [
    "class MNISTModel(nnx.Module):\n",
    "  def __init__(self, *, rngs: nnx.Rngs):\n",
    "    channels = 128\n",
    "    self.conv0 = nnx.Conv(1, channels, (3, 3), rngs=rngs)\n",
    "    self.convs = [nnx.Conv(channels, channels, (3, 3), rngs=rngs) for _ in range(32)]\n",
    "    self.output = nnx.Linear(channels * 28 * 28, 1024, rngs=rngs)\n",
    "    self.classifier = nnx.Linear(1024, 10, rngs=rngs)\n",
    "    \n",
    "  def __call__(self, x):\n",
    "    x = x if x.ndim == 4 else x[..., None]\n",
    "    z = jax.nn.relu(self.conv0(x))\n",
    "    for conv in self.convs:\n",
    "      z = z + jax.nn.relu(conv(z))\n",
    "    z = z.reshape((z.shape[0], -1))\n",
    "    self.sow(nnx.Intermediate, \"x_flat\", z)  # if you want to save some values\n",
    "    z = jax.nn.relu(self.output(z))\n",
    "    return self.classifier(z)"
   ]
  },
  {
   "cell_type": "code",
   "execution_count": 44,
   "id": "3a5dfe9b",
   "metadata": {},
   "outputs": [],
   "source": [
    "rngs = nnx.Rngs(0)  # create random keys generator\n",
    "model = MNISTModel(rngs=rngs)"
   ]
  },
  {
   "cell_type": "code",
   "execution_count": null,
   "id": "f5c70b83",
   "metadata": {},
   "outputs": [
    {
     "name": "stdout",
     "output_type": "stream",
     "text": [
      "(128, 100352)\n"
     ]
    }
   ],
   "source": [
    "# get intermediate value by filtering out intermediate state\n",
    "# nnx.split and nnx.state take additional filter arguments\n",
    "# these filter out variable types\n",
    "# - nnx.Param\n",
    "# - nnx.BatchStat\n",
    "# - nnx.Intermediate\n",
    "\n",
    "imgs, classes = next(iter(dl))\n",
    "_ = model(imgs)\n",
    "x_flat = nnx.state(model, nnx.Intermediate).x_flat.value[0]  # filter out only nnx.Intermediate variables\n",
    "print(x_flat.shape)"
   ]
  },
  {
   "cell_type": "code",
   "execution_count": 46,
   "id": "0772eb5a",
   "metadata": {},
   "outputs": [],
   "source": [
    "model = MNISTModel(rngs=rngs)\n",
    "graphdef, state = nnx.split(model)\n",
    "jax.sharding.set_mesh(jax.make_mesh((1,), (\"data\",)))\n",
    "state = jax.device_put(state, P())\n",
    "optimizer = optax.adam(1e-4)\n",
    "opt_state = optimizer.init(state)\n",
    "\n",
    "@jax.jit\n",
    "def train_step(imgs, y, state, opt_state):\n",
    "\n",
    "  def loss_fn(state):\n",
    "    model = nnx.merge(graphdef, state)\n",
    "    yp = model(imgs)\n",
    "    return jnp.mean(optax.softmax_cross_entropy_with_integer_labels(yp, y))\n",
    "    \n",
    "  with jax.named_scope(\"forward\"):\n",
    "    loss = loss_fn(state)\n",
    "  with jax.named_scope(\"backward\"):\n",
    "    gs = jax.grad(loss_fn)(state)\n",
    "  pred = nnx.merge(graphdef, state)(imgs)\n",
    "  updates, opt_state = optimizer.update(gs, opt_state)\n",
    "  state = optax.apply_updates(state, updates)\n",
    "  return loss, pred, state, opt_state"
   ]
  },
  {
   "cell_type": "code",
   "execution_count": 47,
   "id": "7b809198",
   "metadata": {},
   "outputs": [
    {
     "name": "stderr",
     "output_type": "stream",
     "text": [
      "  0%|          | 0/200 [00:00<?, ?it/s]"
     ]
    },
    {
     "name": "stderr",
     "output_type": "stream",
     "text": [
      "loss = 2.2356e+02, accuracy 57.777691%: : 201it [00:20,  9.84it/s]                       \n"
     ]
    },
    {
     "data": {
      "text/plain": [
       "Text(0.5, 0, 'Iteration')"
      ]
     },
     "execution_count": 47,
     "metadata": {},
     "output_type": "execute_result"
    },
    {
     "data": {
      "image/png": "[encoded data removed]",
      "text/plain": [
       "<Figure size 640x480 with 1 Axes>"
      ]
     },
     "metadata": {},
     "output_type": "display_data"
    }
   ],
   "source": [
    "losses = []\n",
    "max_it = int(2e2)\n",
    "pbar = tqdm(enumerate(dl), total=max_it)\n",
    "total, correct = 0, 0\n",
    "train_accuracies = []\n",
    "_ = train_step(imgs, classes, state, opt_state) # precompile train step\n",
    "for i, (imgs, classes) in pbar:\n",
    "  loss, pred, state, opt_state = train_step(imgs, classes, state, opt_state)\n",
    "  losses.append(loss)\n",
    "  total, correct = total + imgs.shape[0], correct + jnp.sum(jnp.argmax(pred, -1) == classes)\n",
    "  train_accuracies.append(correct / total)\n",
    "  pbar.set_description(f\"{loss = :.4e}, accuracy {correct / total:%}\")\n",
    "  if i > max_it:\n",
    "    break\n",
    "model = nnx.merge(graphdef, state)  # merge model to insert the optimized state\n",
    "\n",
    "plt.figure()\n",
    "plt.plot(train_accuracies)\n",
    "plt.ylabel(\"Accuracy\")\n",
    "plt.xlabel(\"Iteration\")"
   ]
  },
  {
   "cell_type": "markdown",
   "id": "48886376",
   "metadata": {},
   "source": [
    "# Profiling and Optimization"
   ]
  },
  {
   "cell_type": "code",
   "execution_count": 48,
   "id": "ea2955c4",
   "metadata": {},
   "outputs": [
    {
     "name": "stderr",
     "output_type": "stream",
     "text": [
      "2025-04-25 21:05:36.714038: E external/xla/xla/python/profiler/internal/python_hooks.cc:412] Can't import tensorflow.python.profiler.trace\n",
      "2025-04-25 21:05:37.266895: E external/xla/xla/python/profiler/internal/python_hooks.cc:412] Can't import tensorflow.python.profiler.trace\n"
     ]
    }
   ],
   "source": [
    "model = MNISTModel(rngs=rngs)\n",
    "graphdef, state = nnx.split(model)\n",
    "optimizer = optax.adam(1e-3)\n",
    "opt_state = optimizer.init(state)\n",
    "with jax.profiler.trace(Path(\"~/profiles\").expanduser()):\n",
    "  for _ in range(10):\n",
    "    loss, pred, state, opt_state = train_step(imgs, classes, state, opt_state)\n",
    "    \n",
    "# use tensorboard from command line or install tensorboard VSCode extension\n",
    "# profile is at ~/profiles"
   ]
  },
  {
   "cell_type": "markdown",
   "id": "fe5a9b1b",
   "metadata": {},
   "source": [
    "# Unified sharding API (Data / Tensor / Pipeline parallelism)"
   ]
  },
  {
   "cell_type": "code",
   "execution_count": 49,
   "id": "5f1a1fe2",
   "metadata": {},
   "outputs": [
    {
     "name": "stdout",
     "output_type": "stream",
     "text": [
      "[CudaDevice(id=0), CudaDevice(id=1), CudaDevice(id=2), CudaDevice(id=3)]\n"
     ]
    }
   ],
   "source": [
    "print(jax.devices())"
   ]
  },
  {
   "cell_type": "code",
   "execution_count": 50,
   "id": "9a324eb0",
   "metadata": {},
   "outputs": [
    {
     "data": {
      "text/html": [
       "<pre style=\"white-space:pre;overflow-x:auto;line-height:normal;font-family:Menlo,'DejaVu Sans Mono',consolas,'Courier New',monospace\"><span style=\"color: #ffffff; text-decoration-color: #ffffff; background-color: #393b79\">                         </span>\n",
       "<span style=\"color: #ffffff; text-decoration-color: #ffffff; background-color: #393b79\">          GPU 0          </span>\n",
       "<span style=\"color: #ffffff; text-decoration-color: #ffffff; background-color: #393b79\">                         </span>\n",
       "<span style=\"color: #ffffff; text-decoration-color: #ffffff; background-color: #de9ed6\">                         </span>\n",
       "<span style=\"color: #ffffff; text-decoration-color: #ffffff; background-color: #de9ed6\">          GPU 1          </span>\n",
       "<span style=\"color: #ffffff; text-decoration-color: #ffffff; background-color: #de9ed6\">                         </span>\n",
       "<span style=\"color: #ffffff; text-decoration-color: #ffffff; background-color: #ad494a\">                         </span>\n",
       "<span style=\"color: #ffffff; text-decoration-color: #ffffff; background-color: #ad494a\">          GPU 2          </span>\n",
       "<span style=\"color: #ffffff; text-decoration-color: #ffffff; background-color: #ad494a\">                         </span>\n",
       "<span style=\"color: #000000; text-decoration-color: #000000; background-color: #b5cf6b\">                         </span>\n",
       "<span style=\"color: #000000; text-decoration-color: #000000; background-color: #b5cf6b\">          GPU 3          </span>\n",
       "<span style=\"color: #000000; text-decoration-color: #000000; background-color: #b5cf6b\">                         </span>\n",
       "</pre>\n"
      ],
      "text/plain": [
       "\u001b[38;2;255;255;255;48;2;57;59;121m                         \u001b[0m\n",
       "\u001b[38;2;255;255;255;48;2;57;59;121m          \u001b[0m\u001b[38;2;255;255;255;48;2;57;59;121mGPU 0\u001b[0m\u001b[38;2;255;255;255;48;2;57;59;121m          \u001b[0m\n",
       "\u001b[38;2;255;255;255;48;2;57;59;121m                         \u001b[0m\n",
       "\u001b[38;2;255;255;255;48;2;222;158;214m                         \u001b[0m\n",
       "\u001b[38;2;255;255;255;48;2;222;158;214m          \u001b[0m\u001b[38;2;255;255;255;48;2;222;158;214mGPU 1\u001b[0m\u001b[38;2;255;255;255;48;2;222;158;214m          \u001b[0m\n",
       "\u001b[38;2;255;255;255;48;2;222;158;214m                         \u001b[0m\n",
       "\u001b[38;2;255;255;255;48;2;173;73;74m                         \u001b[0m\n",
       "\u001b[38;2;255;255;255;48;2;173;73;74m          \u001b[0m\u001b[38;2;255;255;255;48;2;173;73;74mGPU 2\u001b[0m\u001b[38;2;255;255;255;48;2;173;73;74m          \u001b[0m\n",
       "\u001b[38;2;255;255;255;48;2;173;73;74m                         \u001b[0m\n",
       "\u001b[38;2;0;0;0;48;2;181;207;107m                         \u001b[0m\n",
       "\u001b[38;2;0;0;0;48;2;181;207;107m          \u001b[0m\u001b[38;2;0;0;0;48;2;181;207;107mGPU 3\u001b[0m\u001b[38;2;0;0;0;48;2;181;207;107m          \u001b[0m\n",
       "\u001b[38;2;0;0;0;48;2;181;207;107m                         \u001b[0m\n"
      ]
     },
     "metadata": {},
     "output_type": "display_data"
    }
   ],
   "source": [
    "from jax.sharding import PartitionSpec as P, use_mesh, set_mesh\n",
    "\n",
    "A = jnp.ones((16, 16))\n",
    "# a simple mesh with one axis called \"data\" - name is completely arbitrary\n",
    "mesh = jax.make_mesh((jax.device_count(),), (\"data\",))\n",
    "set_mesh(mesh)  # set the mesh globally\n",
    "\n",
    "A = jax.device_put(A, P(\"data\", None))\n",
    "jax.debug.visualize_array_sharding(A)"
   ]
  },
  {
   "cell_type": "code",
   "execution_count": 51,
   "id": "431223cf",
   "metadata": {},
   "outputs": [
    {
     "ename": "DuplicateSpecError",
     "evalue": "A single NamedSharding spec specification can map every mesh axis to at most one positional dimension, but PartitionSpec('data', 'data') has duplicate entries for `data`",
     "output_type": "error",
     "traceback": [
      "\u001b[31m---------------------------------------------------------------------------\u001b[39m",
      "\u001b[31mDuplicateSpecError\u001b[39m                        Traceback (most recent call last)",
      "\u001b[36mCell\u001b[39m\u001b[36m \u001b[39m\u001b[32mIn[51]\u001b[39m\u001b[32m, line 1\u001b[39m\n\u001b[32m----> \u001b[39m\u001b[32m1\u001b[39m A = \u001b[43mjax\u001b[49m\u001b[43m.\u001b[49m\u001b[43mdevice_put\u001b[49m\u001b[43m(\u001b[49m\u001b[43mA\u001b[49m\u001b[43m,\u001b[49m\u001b[43m \u001b[49m\u001b[43mP\u001b[49m\u001b[43m(\u001b[49m\u001b[33;43m\"\u001b[39;49m\u001b[33;43mdata\u001b[39;49m\u001b[33;43m\"\u001b[39;49m\u001b[43m,\u001b[49m\u001b[43m \u001b[49m\u001b[33;43m\"\u001b[39;49m\u001b[33;43mdata\u001b[39;49m\u001b[33;43m\"\u001b[39;49m\u001b[43m)\u001b[49m\u001b[43m)\u001b[49m  \u001b[38;5;66;03m# cannot shard both axis\u001b[39;00m\n",
      "\u001b[36mFile \u001b[39m\u001b[32m~/venv/lib/python3.12/site-packages/jax/_src/api.py:2469\u001b[39m, in \u001b[36mdevice_put\u001b[39m\u001b[34m(x, device, src, donate, may_alias)\u001b[39m\n\u001b[32m   2466\u001b[39m   src_flat = flatten_axes(\u001b[33m\"\u001b[39m\u001b[33mdevice_put source\u001b[39m\u001b[33m\"\u001b[39m, treedef, src)\n\u001b[32m   2467\u001b[39m   src_flat = \u001b[38;5;28mlist\u001b[39m(\u001b[38;5;28mmap\u001b[39m(_infer_src_sharding, src_flat, x_flat))\n\u001b[32m-> \u001b[39m\u001b[32m2469\u001b[39m device_flat = \u001b[38;5;28;43mmap\u001b[39;49m\u001b[43m(\u001b[49m\u001b[43mpspec_to_sharding\u001b[49m\u001b[43m,\u001b[49m\u001b[43m \u001b[49m\u001b[43mdevice_flat\u001b[49m\u001b[43m)\u001b[49m\n\u001b[32m   2470\u001b[39m src_flat = \u001b[38;5;28mmap\u001b[39m(pspec_to_sharding, src_flat)\n\u001b[32m   2472\u001b[39m \u001b[38;5;28;01mif\u001b[39;00m \u001b[38;5;28misinstance\u001b[39m(donate, \u001b[38;5;28mbool\u001b[39m):\n",
      "\u001b[36mFile \u001b[39m\u001b[32m~/venv/lib/python3.12/site-packages/jax/_src/api.py:2414\u001b[39m, in \u001b[36mpspec_to_sharding\u001b[39m\u001b[34m(val)\u001b[39m\n\u001b[32m   2410\u001b[39m   \u001b[38;5;28;01mif\u001b[39;00m mesh \u001b[38;5;129;01mis\u001b[39;00m \u001b[38;5;28;01mNone\u001b[39;00m:\n\u001b[32m   2411\u001b[39m     \u001b[38;5;28;01mraise\u001b[39;00m \u001b[38;5;167;01mValueError\u001b[39;00m(\n\u001b[32m   2412\u001b[39m         \u001b[33m\"\u001b[39m\u001b[33mPlease set a mesh via `jax.sharding.use_mesh` if a PartitionSpec is\u001b[39m\u001b[33m\"\u001b[39m\n\u001b[32m   2413\u001b[39m         \u001b[33m\"\u001b[39m\u001b[33m passed to device_put\u001b[39m\u001b[33m\"\u001b[39m)\n\u001b[32m-> \u001b[39m\u001b[32m2414\u001b[39m   \u001b[38;5;28;01mreturn\u001b[39;00m \u001b[43mNamedSharding\u001b[49m\u001b[43m(\u001b[49m\u001b[43mmesh\u001b[49m\u001b[43m,\u001b[49m\u001b[43m \u001b[49m\u001b[43mval\u001b[49m\u001b[43m)\u001b[49m\n\u001b[32m   2415\u001b[39m \u001b[38;5;28;01mreturn\u001b[39;00m val\n",
      "\u001b[36mFile \u001b[39m\u001b[32m~/venv/lib/python3.12/site-packages/jax/_src/util.py:279\u001b[39m, in \u001b[36mcache.<locals>.wrap.<locals>.wrapper\u001b[39m\u001b[34m(*args, **kwargs)\u001b[39m\n\u001b[32m    277\u001b[39m \u001b[38;5;28;01mif\u001b[39;00m config.check_tracer_leaks.value:\n\u001b[32m    278\u001b[39m   \u001b[38;5;28;01mreturn\u001b[39;00m f(*args, **kwargs)\n\u001b[32m--> \u001b[39m\u001b[32m279\u001b[39m \u001b[38;5;28;01mreturn\u001b[39;00m \u001b[43mcached\u001b[49m\u001b[43m(\u001b[49m\u001b[43mconfig\u001b[49m\u001b[43m.\u001b[49m\u001b[43mtrace_context\u001b[49m\u001b[43m(\u001b[49m\u001b[43m)\u001b[49m\u001b[43m \u001b[49m\u001b[38;5;28;43;01mif\u001b[39;49;00m\u001b[43m \u001b[49m\u001b[43mtrace_context_in_key\u001b[49m\u001b[43m \u001b[49m\u001b[38;5;28;43;01melse\u001b[39;49;00m\u001b[43m \u001b[49m\u001b[43m_ignore\u001b[49m\u001b[43m(\u001b[49m\u001b[43m)\u001b[49m\u001b[43m,\u001b[49m\n\u001b[32m    280\u001b[39m \u001b[43m              \u001b[49m\u001b[43m*\u001b[49m\u001b[43margs\u001b[49m\u001b[43m,\u001b[49m\u001b[43m \u001b[49m\u001b[43m*\u001b[49m\u001b[43m*\u001b[49m\u001b[43mkwargs\u001b[49m\u001b[43m)\u001b[49m\n",
      "\u001b[36mFile \u001b[39m\u001b[32m~/venv/lib/python3.12/site-packages/jax/_src/util.py:273\u001b[39m, in \u001b[36mcache.<locals>.wrap.<locals>.cached\u001b[39m\u001b[34m(_, *args, **kwargs)\u001b[39m\n\u001b[32m    271\u001b[39m \u001b[38;5;129m@functools\u001b[39m.lru_cache(max_size)\n\u001b[32m    272\u001b[39m \u001b[38;5;28;01mdef\u001b[39;00m\u001b[38;5;250m \u001b[39m\u001b[34mcached\u001b[39m(_, *args, **kwargs):\n\u001b[32m--> \u001b[39m\u001b[32m273\u001b[39m   \u001b[38;5;28;01mreturn\u001b[39;00m \u001b[43mf\u001b[49m\u001b[43m(\u001b[49m\u001b[43m*\u001b[49m\u001b[43margs\u001b[49m\u001b[43m,\u001b[49m\u001b[43m \u001b[49m\u001b[43m*\u001b[49m\u001b[43m*\u001b[49m\u001b[43mkwargs\u001b[49m\u001b[43m)\u001b[49m\n",
      "\u001b[36mFile \u001b[39m\u001b[32m~/venv/lib/python3.12/site-packages/jax/_src/named_sharding.py:422\u001b[39m, in \u001b[36mcheck_pspec\u001b[39m\u001b[34m(mesh, spec, _manual_axes)\u001b[39m\n\u001b[32m    420\u001b[39m \u001b[38;5;129m@cache\u001b[39m(max_size=\u001b[32m128\u001b[39m, trace_context_in_key=\u001b[38;5;28;01mFalse\u001b[39;00m)\n\u001b[32m    421\u001b[39m \u001b[38;5;28;01mdef\u001b[39;00m\u001b[38;5;250m \u001b[39m\u001b[34mcheck_pspec\u001b[39m(mesh, spec, _manual_axes=\u001b[38;5;28mfrozenset\u001b[39m()):\n\u001b[32m--> \u001b[39m\u001b[32m422\u001b[39m   \u001b[43m_check_unique_resources\u001b[49m\u001b[43m(\u001b[49m\u001b[43mspec\u001b[49m\u001b[43m,\u001b[49m\u001b[43m \u001b[49m\u001b[33;43m\"\u001b[39;49m\u001b[33;43mNamedSharding spec\u001b[39;49m\u001b[33;43m\"\u001b[39;49m\u001b[43m,\u001b[49m\u001b[43m \u001b[49m\u001b[43mmesh\u001b[49m\u001b[43m)\u001b[49m\n\u001b[32m    423\u001b[39m   _check_mesh_resource_axis(mesh, spec, _manual_axes)\n",
      "\u001b[36mFile \u001b[39m\u001b[32m~/venv/lib/python3.12/site-packages/jax/_src/named_sharding.py:450\u001b[39m, in \u001b[36m_check_unique_resources\u001b[39m\u001b[34m(pspec, arg_name, mesh)\u001b[39m\n\u001b[32m    448\u001b[39m \u001b[38;5;28;01mif\u001b[39;00m duplicate:\n\u001b[32m    449\u001b[39m   multiple_uses = [r \u001b[38;5;28;01mfor\u001b[39;00m r, c \u001b[38;5;129;01min\u001b[39;00m resource_counts.items() \u001b[38;5;28;01mif\u001b[39;00m c > \u001b[32m1\u001b[39m]\n\u001b[32m--> \u001b[39m\u001b[32m450\u001b[39m   \u001b[38;5;28;01mraise\u001b[39;00m DuplicateSpecError(\n\u001b[32m    451\u001b[39m       message=(\n\u001b[32m    452\u001b[39m           \u001b[33mf\u001b[39m\u001b[33m'\u001b[39m\u001b[33mA single \u001b[39m\u001b[38;5;132;01m{\u001b[39;00marg_name\u001b[38;5;132;01m}\u001b[39;00m\u001b[33m specification can map every mesh axis to at\u001b[39m\u001b[33m'\u001b[39m\n\u001b[32m    453\u001b[39m           \u001b[33mf\u001b[39m\u001b[33m'\u001b[39m\u001b[33m most one positional dimension, but \u001b[39m\u001b[38;5;132;01m{\u001b[39;00mpspec\u001b[38;5;132;01m}\u001b[39;00m\u001b[33m has duplicate entries\u001b[39m\u001b[33m'\u001b[39m\n\u001b[32m    454\u001b[39m           \u001b[33mf\u001b[39m\u001b[33m'\u001b[39m\u001b[33m for \u001b[39m\u001b[38;5;132;01m{\u001b[39;00mmesh_lib.show_axes(multiple_uses)\u001b[38;5;132;01m}\u001b[39;00m\u001b[33m'\u001b[39m),\n\u001b[32m    455\u001b[39m       mesh=mesh, pspec=pspec)\n",
      "\u001b[31mDuplicateSpecError\u001b[39m: A single NamedSharding spec specification can map every mesh axis to at most one positional dimension, but PartitionSpec('data', 'data') has duplicate entries for `data`"
     ]
    }
   ],
   "source": [
    "A = jax.device_put(A, P(\"data\", \"data\"))  # cannot shard both axis"
   ]
  },
  {
   "cell_type": "code",
   "execution_count": 52,
   "id": "1a3f7d63",
   "metadata": {},
   "outputs": [
    {
     "ename": "ValueError",
     "evalue": "One of device_put args was given the sharding of NamedSharding(mesh=Mesh('data': 4, axis_types=(Auto,)), spec=PartitionSpec('data', None), memory_kind=device), which implies that the global size of its dimension 0 should be divisible by 4, but it is equal to 3 (full shape: (3, 4))",
     "output_type": "error",
     "traceback": [
      "\u001b[31m---------------------------------------------------------------------------\u001b[39m",
      "\u001b[31mValueError\u001b[39m                                Traceback (most recent call last)",
      "\u001b[36mCell\u001b[39m\u001b[36m \u001b[39m\u001b[32mIn[52]\u001b[39m\u001b[32m, line 1\u001b[39m\n\u001b[32m----> \u001b[39m\u001b[32m1\u001b[39m A = \u001b[43mjax\u001b[49m\u001b[43m.\u001b[49m\u001b[43mdevice_put\u001b[49m\u001b[43m(\u001b[49m\u001b[43mjnp\u001b[49m\u001b[43m.\u001b[49m\u001b[43mones\u001b[49m\u001b[43m(\u001b[49m\u001b[43m(\u001b[49m\u001b[32;43m3\u001b[39;49m\u001b[43m,\u001b[49m\u001b[43m \u001b[49m\u001b[32;43m4\u001b[39;49m\u001b[43m)\u001b[49m\u001b[43m)\u001b[49m\u001b[43m,\u001b[49m\u001b[43m \u001b[49m\u001b[43mP\u001b[49m\u001b[43m(\u001b[49m\u001b[33;43m\"\u001b[39;49m\u001b[33;43mdata\u001b[39;49m\u001b[33;43m\"\u001b[39;49m\u001b[43m,\u001b[49m\u001b[43m \u001b[49m\u001b[38;5;28;43;01mNone\u001b[39;49;00m\u001b[43m)\u001b[49m\u001b[43m)\u001b[49m  \u001b[38;5;66;03m# cannot shard both axis\u001b[39;00m\n",
      "\u001b[36mFile \u001b[39m\u001b[32m~/venv/lib/python3.12/site-packages/jax/_src/api.py:2497\u001b[39m, in \u001b[36mdevice_put\u001b[39m\u001b[34m(x, device, src, donate, may_alias)\u001b[39m\n\u001b[32m   2494\u001b[39m     copy_semantics.append(dispatch.CopySemantics.COPY)\n\u001b[32m   2496\u001b[39m \u001b[38;5;28;01mfor\u001b[39;00m xf, d \u001b[38;5;129;01min\u001b[39;00m \u001b[38;5;28mzip\u001b[39m(x_flat, device_flat):\n\u001b[32m-> \u001b[39m\u001b[32m2497\u001b[39m   \u001b[43m_check_sharding\u001b[49m\u001b[43m(\u001b[49m\u001b[43mshaped_abstractify\u001b[49m\u001b[43m(\u001b[49m\u001b[43mxf\u001b[49m\u001b[43m)\u001b[49m\u001b[43m,\u001b[49m\u001b[43m \u001b[49m\u001b[43md\u001b[49m\u001b[43m)\u001b[49m\n\u001b[32m   2498\u001b[39m out_flat = dispatch.device_put_p.bind(\n\u001b[32m   2499\u001b[39m     *x_flat, devices=device_flat, srcs=src_flat,\n\u001b[32m   2500\u001b[39m     copy_semantics=copy_semantics)\n\u001b[32m   2501\u001b[39m \u001b[38;5;28;01mreturn\u001b[39;00m tree_unflatten(treedef, out_flat)\n",
      "\u001b[36mFile \u001b[39m\u001b[32m~/venv/lib/python3.12/site-packages/jax/_src/api.py:2403\u001b[39m, in \u001b[36m_check_sharding\u001b[39m\u001b[34m(aval, s)\u001b[39m\n\u001b[32m   2401\u001b[39m   aval = core.get_token_aval()\n\u001b[32m   2402\u001b[39m \u001b[38;5;28;01mif\u001b[39;00m \u001b[38;5;129;01mnot\u001b[39;00m \u001b[38;5;28misinstance\u001b[39m(s, PmapSharding):\n\u001b[32m-> \u001b[39m\u001b[32m2403\u001b[39m   \u001b[43mpjit\u001b[49m\u001b[43m.\u001b[49m\u001b[43mpjit_check_aval_sharding\u001b[49m\u001b[43m(\u001b[49m\n\u001b[32m   2404\u001b[39m \u001b[43m      \u001b[49m\u001b[43m(\u001b[49m\u001b[43ms\u001b[49m\u001b[43m,\u001b[49m\u001b[43m)\u001b[49m\u001b[43m,\u001b[49m\u001b[43m \u001b[49m\u001b[43m(\u001b[49m\u001b[43maval\u001b[49m\u001b[43m,\u001b[49m\u001b[43m)\u001b[49m\u001b[43m,\u001b[49m\u001b[43m \u001b[49m\u001b[43m(\u001b[49m\u001b[33;43m\"\u001b[39;49m\u001b[33;43m\"\u001b[39;49m\u001b[43m,\u001b[49m\u001b[43m)\u001b[49m\u001b[43m,\u001b[49m\u001b[43m \u001b[49m\u001b[33;43m\"\u001b[39;49m\u001b[33;43mdevice_put args\u001b[39;49m\u001b[33;43m\"\u001b[39;49m\u001b[43m,\u001b[49m\u001b[43m \u001b[49m\u001b[43mallow_uneven_sharding\u001b[49m\u001b[43m=\u001b[49m\u001b[38;5;28;43;01mFalse\u001b[39;49;00m\u001b[43m)\u001b[49m\n\u001b[32m   2405\u001b[39m s.shard_shape(aval.shape)\n",
      "\u001b[36mFile \u001b[39m\u001b[32m~/venv/lib/python3.12/site-packages/jax/_src/pjit.py:1566\u001b[39m, in \u001b[36mpjit_check_aval_sharding\u001b[39m\u001b[34m(shardings, flat_avals, names, what_aval, allow_uneven_sharding)\u001b[39m\n\u001b[32m   1564\u001b[39m \u001b[38;5;28;01mfor\u001b[39;00m i, size \u001b[38;5;129;01min\u001b[39;00m \u001b[38;5;28menumerate\u001b[39m(num_ways_dim_sharded):\n\u001b[32m   1565\u001b[39m   \u001b[38;5;28;01mif\u001b[39;00m \u001b[38;5;129;01mnot\u001b[39;00m allow_uneven_sharding \u001b[38;5;129;01mand\u001b[39;00m shape[i] % size != \u001b[32m0\u001b[39m:\n\u001b[32m-> \u001b[39m\u001b[32m1566\u001b[39m     \u001b[38;5;28;01mraise\u001b[39;00m \u001b[38;5;167;01mValueError\u001b[39;00m(\u001b[33mf\u001b[39m\u001b[33m\"\u001b[39m\u001b[33mOne of \u001b[39m\u001b[38;5;132;01m{\u001b[39;00mwhat_aval\u001b[38;5;132;01m}\u001b[39;00m\u001b[38;5;132;01m{\u001b[39;00mname_str\u001b[38;5;132;01m}\u001b[39;00m\u001b[33m was given the sharding \u001b[39m\u001b[33m\"\u001b[39m\n\u001b[32m   1567\u001b[39m                      \u001b[33mf\u001b[39m\u001b[33m\"\u001b[39m\u001b[33mof \u001b[39m\u001b[38;5;132;01m{\u001b[39;00ms\u001b[38;5;132;01m}\u001b[39;00m\u001b[33m, which implies that \u001b[39m\u001b[33m\"\u001b[39m\n\u001b[32m   1568\u001b[39m                      \u001b[33mf\u001b[39m\u001b[33m\"\u001b[39m\u001b[33mthe global size of its dimension \u001b[39m\u001b[38;5;132;01m{\u001b[39;00mi\u001b[38;5;132;01m}\u001b[39;00m\u001b[33m should be \u001b[39m\u001b[33m\"\u001b[39m\n\u001b[32m   1569\u001b[39m                      \u001b[33mf\u001b[39m\u001b[33m\"\u001b[39m\u001b[33mdivisible by \u001b[39m\u001b[38;5;132;01m{\u001b[39;00msize\u001b[38;5;132;01m}\u001b[39;00m\u001b[33m, but it is equal to \u001b[39m\u001b[38;5;132;01m{\u001b[39;00mshape[i]\u001b[38;5;132;01m}\u001b[39;00m\u001b[33m \u001b[39m\u001b[33m\"\u001b[39m\n\u001b[32m   1570\u001b[39m                      \u001b[33mf\u001b[39m\u001b[33m\"\u001b[39m\u001b[33m(full shape: \u001b[39m\u001b[38;5;132;01m{\u001b[39;00mshape\u001b[38;5;132;01m}\u001b[39;00m\u001b[33m)\u001b[39m\u001b[33m\"\u001b[39m)\n",
      "\u001b[31mValueError\u001b[39m: One of device_put args was given the sharding of NamedSharding(mesh=Mesh('data': 4, axis_types=(Auto,)), spec=PartitionSpec('data', None), memory_kind=device), which implies that the global size of its dimension 0 should be divisible by 4, but it is equal to 3 (full shape: (3, 4))"
     ]
    }
   ],
   "source": [
    "A = jax.device_put(jnp.ones((3, 4)), P(\"data\", None))  # cannot shard both axis"
   ]
  },
  {
   "cell_type": "markdown",
   "id": "23b866bc",
   "metadata": {},
   "source": [
    "### Data parallel"
   ]
  },
  {
   "cell_type": "markdown",
   "id": "9bb479d2",
   "metadata": {},
   "source": [
    "<!--![images/dp.png](images/dp.png)-->\n",
    "<img src=\"images/dp.png\" style=\"max-width:900px\">\n",
    "\n",
    "Image: Meta"
   ]
  },
  {
   "cell_type": "code",
   "execution_count": 53,
   "id": "44eaac9c",
   "metadata": {},
   "outputs": [],
   "source": [
    "imgs, classes = next(iter(dl))\n",
    "\n",
    "imgs = jax.device_put(imgs, P(\"data\", None, None))\n",
    "classes = jax.device_put(classes, P(\"data\"))"
   ]
  },
  {
   "cell_type": "code",
   "execution_count": 54,
   "id": "89493629",
   "metadata": {},
   "outputs": [
    {
     "data": {
      "text/plain": [
       "NamedSharding(mesh=Mesh('data': 4, axis_types=(Auto,)), spec=PartitionSpec('data', None, None), memory_kind=device)"
      ]
     },
     "execution_count": 54,
     "metadata": {},
     "output_type": "execute_result"
    }
   ],
   "source": [
    "# jax.debug.visualize_array_sharding(imgs)  # visualize_array_sharding works for 1D and 2D\n",
    "imgs.sharding"
   ]
  },
  {
   "cell_type": "code",
   "execution_count": 55,
   "id": "f4cf6f9a",
   "metadata": {},
   "outputs": [
    {
     "data": {
      "text/html": [
       "<pre style=\"white-space:pre;overflow-x:auto;line-height:normal;font-family:Menlo,'DejaVu Sans Mono',consolas,'Courier New',monospace\"><span style=\"color: #ffffff; text-decoration-color: #ffffff; background-color: #393b79\">         </span>\n",
       "<span style=\"color: #ffffff; text-decoration-color: #ffffff; background-color: #393b79\">  GPU 0  </span>\n",
       "<span style=\"color: #ffffff; text-decoration-color: #ffffff; background-color: #393b79\">         </span>\n",
       "<span style=\"color: #ffffff; text-decoration-color: #ffffff; background-color: #de9ed6\">         </span>\n",
       "<span style=\"color: #ffffff; text-decoration-color: #ffffff; background-color: #de9ed6\">  GPU 1  </span>\n",
       "<span style=\"color: #ffffff; text-decoration-color: #ffffff; background-color: #de9ed6\">         </span>\n",
       "<span style=\"color: #ffffff; text-decoration-color: #ffffff; background-color: #ad494a\">         </span>\n",
       "<span style=\"color: #ffffff; text-decoration-color: #ffffff; background-color: #ad494a\">  GPU 2  </span>\n",
       "<span style=\"color: #ffffff; text-decoration-color: #ffffff; background-color: #ad494a\">         </span>\n",
       "<span style=\"color: #000000; text-decoration-color: #000000; background-color: #b5cf6b\">         </span>\n",
       "<span style=\"color: #000000; text-decoration-color: #000000; background-color: #b5cf6b\">  GPU 3  </span>\n",
       "<span style=\"color: #000000; text-decoration-color: #000000; background-color: #b5cf6b\">         </span>\n",
       "</pre>\n"
      ],
      "text/plain": [
       "\u001b[38;2;255;255;255;48;2;57;59;121m         \u001b[0m\n",
       "\u001b[38;2;255;255;255;48;2;57;59;121m  \u001b[0m\u001b[38;2;255;255;255;48;2;57;59;121mGPU 0\u001b[0m\u001b[38;2;255;255;255;48;2;57;59;121m  \u001b[0m\n",
       "\u001b[38;2;255;255;255;48;2;57;59;121m         \u001b[0m\n",
       "\u001b[38;2;255;255;255;48;2;222;158;214m         \u001b[0m\n",
       "\u001b[38;2;255;255;255;48;2;222;158;214m  \u001b[0m\u001b[38;2;255;255;255;48;2;222;158;214mGPU 1\u001b[0m\u001b[38;2;255;255;255;48;2;222;158;214m  \u001b[0m\n",
       "\u001b[38;2;255;255;255;48;2;222;158;214m         \u001b[0m\n",
       "\u001b[38;2;255;255;255;48;2;173;73;74m         \u001b[0m\n",
       "\u001b[38;2;255;255;255;48;2;173;73;74m  \u001b[0m\u001b[38;2;255;255;255;48;2;173;73;74mGPU 2\u001b[0m\u001b[38;2;255;255;255;48;2;173;73;74m  \u001b[0m\n",
       "\u001b[38;2;255;255;255;48;2;173;73;74m         \u001b[0m\n",
       "\u001b[38;2;0;0;0;48;2;181;207;107m         \u001b[0m\n",
       "\u001b[38;2;0;0;0;48;2;181;207;107m  \u001b[0m\u001b[38;2;0;0;0;48;2;181;207;107mGPU 3\u001b[0m\u001b[38;2;0;0;0;48;2;181;207;107m  \u001b[0m\n",
       "\u001b[38;2;0;0;0;48;2;181;207;107m         \u001b[0m\n"
      ]
     },
     "metadata": {},
     "output_type": "display_data"
    },
    {
     "data": {
      "text/html": [
       "<pre style=\"white-space:pre;overflow-x:auto;line-height:normal;font-family:Menlo,'DejaVu Sans Mono',consolas,'Courier New',monospace\"><span style=\"color: #ffffff; text-decoration-color: #ffffff; background-color: #393b79\">  GPU 0  </span><span style=\"color: #ffffff; text-decoration-color: #ffffff; background-color: #de9ed6\">  GPU 1  </span><span style=\"color: #ffffff; text-decoration-color: #ffffff; background-color: #ad494a\">  GPU 2  </span><span style=\"color: #000000; text-decoration-color: #000000; background-color: #b5cf6b\">  GPU 3  </span>\n",
       "<span style=\"color: #ffffff; text-decoration-color: #ffffff; background-color: #393b79\">         </span><span style=\"color: #ffffff; text-decoration-color: #ffffff; background-color: #de9ed6\">         </span><span style=\"color: #ffffff; text-decoration-color: #ffffff; background-color: #ad494a\">         </span><span style=\"color: #000000; text-decoration-color: #000000; background-color: #b5cf6b\">         </span>\n",
       "</pre>\n"
      ],
      "text/plain": [
       "\u001b[38;2;255;255;255;48;2;57;59;121m  \u001b[0m\u001b[38;2;255;255;255;48;2;57;59;121mGPU 0\u001b[0m\u001b[38;2;255;255;255;48;2;57;59;121m  \u001b[0m\u001b[38;2;255;255;255;48;2;222;158;214m  \u001b[0m\u001b[38;2;255;255;255;48;2;222;158;214mGPU 1\u001b[0m\u001b[38;2;255;255;255;48;2;222;158;214m  \u001b[0m\u001b[38;2;255;255;255;48;2;173;73;74m  \u001b[0m\u001b[38;2;255;255;255;48;2;173;73;74mGPU 2\u001b[0m\u001b[38;2;255;255;255;48;2;173;73;74m  \u001b[0m\u001b[38;2;0;0;0;48;2;181;207;107m  \u001b[0m\u001b[38;2;0;0;0;48;2;181;207;107mGPU 3\u001b[0m\u001b[38;2;0;0;0;48;2;181;207;107m  \u001b[0m\n",
       "\u001b[38;2;255;255;255;48;2;57;59;121m         \u001b[0m\u001b[38;2;255;255;255;48;2;222;158;214m         \u001b[0m\u001b[38;2;255;255;255;48;2;173;73;74m         \u001b[0m\u001b[38;2;0;0;0;48;2;181;207;107m         \u001b[0m\n"
      ]
     },
     "metadata": {},
     "output_type": "display_data"
    }
   ],
   "source": [
    "jax.debug.visualize_array_sharding(imgs[..., 0])\n",
    "jax.debug.visualize_array_sharding(classes)"
   ]
  },
  {
   "cell_type": "code",
   "execution_count": 56,
   "id": "f29d2c12",
   "metadata": {},
   "outputs": [],
   "source": [
    "rngs = nnx.Rngs(0)\n",
    "model = MNISTModel(rngs=rngs)\n",
    "graphdef, state = nnx.split(model)\n",
    "optimizer = optax.adam(1e-3)\n",
    "opt_state = optimizer.init(state)\n",
    "\n",
    "state = jax.device_put(state, P())  # model is replicate in DP\n",
    "\n",
    "@jax.jit\n",
    "def train_step(imgs, y, state, opt_state):\n",
    "\n",
    "  def loss_fn(state, x, y):\n",
    "    # with sharding constraints instructs the compiler to shard intermediate value across devices\n",
    "    # this is a hard sharding constraint - the compiler must obey it\n",
    "    # the compiler attempts to make optimal decisions about sharding\n",
    "    x = jax.lax.with_sharding_constraint(x, P(\"data\", None, None))\n",
    "    yp = nnx.merge(graphdef, state)(x)\n",
    "    y, yp = jax.lax.with_sharding_constraint((y, yp), P(\"data\"))\n",
    "    # constraint outputs to ensure data parallelism\n",
    "\n",
    "    return jnp.mean(optax.softmax_cross_entropy_with_integer_labels(yp, y))\n",
    "    \n",
    "  with jax.named_scope(\"forward\"):  # for profiling annotations\n",
    "    loss = loss_fn(state, imgs, y)\n",
    "  with jax.named_scope(\"backward\"): # for profiling annotations\n",
    "    gs = jax.grad(loss_fn)(state, imgs, y)\n",
    "  pred = nnx.merge(graphdef, state)(imgs)\n",
    "  updates, opt_state = optimizer.update(gs, opt_state)\n",
    "  state = optax.apply_updates(state, updates)\n",
    "  return loss, pred, state, opt_state"
   ]
  },
  {
   "cell_type": "code",
   "execution_count": 57,
   "id": "0f96fb58",
   "metadata": {},
   "outputs": [
    {
     "name": "stderr",
     "output_type": "stream",
     "text": [
      "loss = 2.0014e+02, accuracy 69.380414%: : 201it [00:13, 15.25it/s]                       \n"
     ]
    },
    {
     "data": {
      "text/plain": [
       "Text(0.5, 0, 'Iteration')"
      ]
     },
     "execution_count": 57,
     "metadata": {},
     "output_type": "execute_result"
    },
    {
     "data": {
      "image/png": "[encoded data removed]",
      "text/plain": [
       "<Figure size 640x480 with 1 Axes>"
      ]
     },
     "metadata": {},
     "output_type": "display_data"
    }
   ],
   "source": [
    "losses = []\n",
    "max_it = int(2e2)\n",
    "pbar = tqdm(enumerate(dl), total=max_it)\n",
    "total, correct = 0, 0\n",
    "train_accuracies = []\n",
    "for i, (imgs, classes) in pbar:\n",
    "  loss, pred, state, opt_state = train_step(imgs, classes, state, opt_state)\n",
    "  losses.append(loss)\n",
    "  total, correct = total + imgs.shape[0], correct + jnp.sum(jnp.argmax(pred, -1) == classes)\n",
    "  train_accuracies.append(correct / total)\n",
    "  pbar.set_description(f\"{loss = :.4e}, accuracy {correct / total:%}\")\n",
    "  if i > max_it:\n",
    "    break\n",
    "model = nnx.merge(graphdef, state)  # merge model to insert the optimized state\n",
    "\n",
    "plt.figure()\n",
    "plt.plot(train_accuracies)\n",
    "plt.ylabel(\"Accuracy\")\n",
    "plt.xlabel(\"Iteration\")"
   ]
  },
  {
   "cell_type": "code",
   "execution_count": 67,
   "id": "f49e729e",
   "metadata": {},
   "outputs": [
    {
     "name": "stderr",
     "output_type": "stream",
     "text": [
      "2025-04-25 21:09:46.785335: E external/xla/xla/python/profiler/internal/python_hooks.cc:412] Can't import tensorflow.python.profiler.trace\n",
      "2025-04-25 21:09:48.043035: E external/xla/xla/python/profiler/internal/python_hooks.cc:412] Can't import tensorflow.python.profiler.trace\n"
     ]
    }
   ],
   "source": [
    "# profile to compare single device vs DP\n",
    "\n",
    "model = MNISTModel(rngs=rngs)\n",
    "graphdef, state = nnx.split(model)\n",
    "optimizer = optax.adam(1e-3)\n",
    "opt_state = optimizer.init(state)\n",
    "\n",
    "def profile_body():\n",
    "  global imgs, classes, state, opt_state\n",
    "  with use_mesh(jax.make_mesh((1,), (\"data\",))):\n",
    "    imgs, classes, state, opt_state  = jax.device_put((imgs, classes, state, opt_state), P())  # place mesh devices\n",
    "    for _ in range(10):\n",
    "      loss, pred, state, opt_state = train_step(imgs, classes, state, opt_state)\n",
    "  with use_mesh(jax.make_mesh((jax.device_count(),), (\"data\",))):\n",
    "    imgs, classes, state, opt_state  = jax.device_put((imgs, classes, state, opt_state), P())  # place mesh devices\n",
    "    for _ in range(10):\n",
    "      loss, pred, state, opt_state = train_step(imgs, classes, state, opt_state)\n",
    "\n",
    "profile_body()  # precompile to not profile compilation (cleaner profile)\n",
    "with jax.profiler.trace(Path(\"~/profiles\").expanduser()):\n",
    "  profile_body()"
   ]
  },
  {
   "cell_type": "markdown",
   "id": "af2c4857",
   "metadata": {},
   "source": [
    "### FSDP"
   ]
  },
  {
   "cell_type": "markdown",
   "id": "73eca756",
   "metadata": {},
   "source": [
    "<!--![images/fsdp.png](images/fsdp.png)-->\n",
    "<img src=\"images/fsdp.png\" style=\"max-width:900px\">\n",
    "\n",
    "Image: Meta"
   ]
  },
  {
   "cell_type": "code",
   "execution_count": 59,
   "id": "a94cf333",
   "metadata": {},
   "outputs": [],
   "source": [
    "set_mesh(jax.make_mesh((jax.device_count(),), (\"fsdp\",)))\n",
    "\n",
    "def shard_weight(x):\n",
    "  if x.ndim == 2 and x.shape[0] % mesh.devices.shape[0] == 0:\n",
    "    return jax.device_put(x, P(\"fsdp\", None))\n",
    "  else:\n",
    "    return jax.device_put(x, P())"
   ]
  },
  {
   "cell_type": "code",
   "execution_count": 60,
   "id": "071d84a5",
   "metadata": {},
   "outputs": [],
   "source": [
    "rngs = nnx.Rngs(0)\n",
    "model = MNISTModel(rngs=rngs)\n",
    "graphdef, state = nnx.split(model)\n",
    "optimizer = optax.adam(1e-3)\n",
    "opt_state = optimizer.init(state)\n",
    "\n",
    "# state = jax.device_put(state, P())  # model is replicate in DP\n",
    "state = jax.tree.map(shard_weight, nnx.state(model))  # for FSDP\n",
    "\n",
    "@partial(jax.jit, static_argnames=(\"axis\",))\n",
    "def train_step(imgs, y, state, opt_state, axis=None):\n",
    "\n",
    "  def loss_fn(state, x, y):\n",
    "    x = jax.lax.with_sharding_constraint(x, P(axis, None))  # shard data according to `axis` name\n",
    "    yp = nnx.merge(graphdef, state)(x)\n",
    "    y, yp = jax.lax.with_sharding_constraint((y, yp), P(axis))  # shard data according to `axis` name\n",
    "    return jnp.mean(optax.softmax_cross_entropy_with_integer_labels(yp, y))\n",
    "    \n",
    "  with jax.named_scope(\"forward\"):  # for profiling annotations\n",
    "    loss = loss_fn(state, imgs, y)\n",
    "  with jax.named_scope(\"backward\"): # for profiling annotations\n",
    "    gs = jax.grad(loss_fn)(state, imgs, y)\n",
    "  pred = nnx.merge(graphdef, state)(imgs)\n",
    "  updates, opt_state = optimizer.update(gs, opt_state)\n",
    "  state = optax.apply_updates(state, updates)\n",
    "  return loss, pred, state, opt_state"
   ]
  },
  {
   "cell_type": "code",
   "execution_count": 61,
   "id": "8df08179",
   "metadata": {},
   "outputs": [
    {
     "name": "stderr",
     "output_type": "stream",
     "text": [
      "loss = 3.0766e+02, accuracy 71.225244%: : 201it [00:30,  6.67it/s]                       \n"
     ]
    },
    {
     "data": {
      "text/plain": [
       "[<matplotlib.lines.Line2D at 0x763be82307d0>]"
      ]
     },
     "execution_count": 61,
     "metadata": {},
     "output_type": "execute_result"
    },
    {
     "data": {
      "image/png": "[encoded data removed]",
      "text/plain": [
       "<Figure size 640x480 with 1 Axes>"
      ]
     },
     "metadata": {},
     "output_type": "display_data"
    }
   ],
   "source": [
    "losses = []\n",
    "max_it = int(2e2)\n",
    "pbar = tqdm(enumerate(dl), total=max_it)\n",
    "total, correct = 0, 0\n",
    "train_accuracies = []\n",
    "for i, (imgs, classes) in pbar:\n",
    "  loss, pred, state, opt_state = train_step(imgs, classes, state, opt_state)\n",
    "  losses.append(loss)\n",
    "  total, correct = total + imgs.shape[0], correct + jnp.sum(jnp.argmax(pred, -1) == classes)\n",
    "  train_accuracies.append(correct / total)\n",
    "  pbar.set_description(f\"{loss = :.4e}, accuracy {correct / total:%}\")\n",
    "  if i > max_it:\n",
    "    break\n",
    "model = nnx.merge(graphdef, state)  # merge model to insert the optimized state\n",
    "\n",
    "plt.figure()\n",
    "plt.plot(train_accuracies)"
   ]
  },
  {
   "cell_type": "code",
   "execution_count": null,
   "id": "93621b32",
   "metadata": {},
   "outputs": [
    {
     "name": "stderr",
     "output_type": "stream",
     "text": [
      "2025-04-25 21:08:35.374502: E external/xla/xla/python/profiler/internal/python_hooks.cc:412] Can't import tensorflow.python.profiler.trace\n",
      "2025-04-25 21:08:38.101990: E external/xla/xla/python/profiler/internal/python_hooks.cc:412] Can't import tensorflow.python.profiler.trace\n"
     ]
    }
   ],
   "source": [
    "# profile to compare single device vs DP vs FSDP\n",
    "model = MNISTModel(rngs=rngs)\n",
    "graphdef, state = nnx.split(model)\n",
    "optimizer = optax.adam(1e-3)\n",
    "\n",
    "def profile_body():\n",
    "  global imgs, classes, state\n",
    "\n",
    "  with use_mesh(jax.make_mesh((1,), (\"data\",))):\n",
    "    imgs, classes, state = jax.device_put((imgs, classes, state), P())  # place mesh devices\n",
    "    opt_state = optimizer.init(state)\n",
    "    for _ in range(10):\n",
    "      loss, pred, state, opt_state = train_step(imgs, classes, state, opt_state, axis=None)\n",
    "  with use_mesh(jax.make_mesh((4,), (\"data\",))):\n",
    "    imgs, classes, state = jax.device_put((imgs, classes, state), P())  # place mesh devices\n",
    "    opt_state = optimizer.init(state)\n",
    "    for _ in range(10):\n",
    "      loss, pred, state, opt_state = train_step(imgs, classes, state, opt_state, axis=\"data\")\n",
    "  with use_mesh(jax.make_mesh((4,), (\"fsdp\",))):\n",
    "    imgs, classes, state = jax.device_put((imgs, classes, state), P())  # place mesh devices\n",
    "    state = jax.tree.map(shard_weight, state)\n",
    "    opt_state = optimizer.init(state)\n",
    "    for _ in range(10):\n",
    "      loss, pred, state, opt_state = train_step(imgs, classes, state, opt_state, axis=\"fsdp\")\n",
    "\n",
    "profile_body()  # precompile to not profile compilation (cleaner profile)\n",
    "with jax.profiler.trace(Path(\"~/profiles\").expanduser()):\n",
    "  profile_body()\n",
    "  "
   ]
  },
  {
   "cell_type": "markdown",
   "id": "57774972",
   "metadata": {},
   "source": [
    "# More useful JAX"
   ]
  },
  {
   "cell_type": "markdown",
   "id": "a1951720",
   "metadata": {},
   "source": [
    "### Use multiple CPU devices"
   ]
  },
  {
   "cell_type": "code",
   "execution_count": null,
   "id": "65c16820",
   "metadata": {},
   "outputs": [],
   "source": [
    "import jax\n",
    "jax.config.update(\"jax_num_cpu_devices\", 8)\n",
    "print(jax.devices(\"cpu\"))"
   ]
  },
  {
   "cell_type": "markdown",
   "id": "9e0e4d98",
   "metadata": {},
   "source": [
    "### Eval shape - abstract function evaluation"
   ]
  },
  {
   "cell_type": "code",
   "execution_count": 73,
   "id": "cf121dae",
   "metadata": {},
   "outputs": [
    {
     "name": "stdout",
     "output_type": "stream",
     "text": [
      "1099.511627776\n"
     ]
    },
    {
     "data": {
      "text/plain": [
       "ShapeDtypeStruct(shape=(1024, 1024, 1024, 1024), dtype=float32)"
      ]
     },
     "execution_count": 73,
     "metadata": {},
     "output_type": "execute_result"
    }
   ],
   "source": [
    "def enormous_array():\n",
    "  return random.normal(random.key(0), (1024, 1024, 1024, 1024)) # 4 TB\n",
    "  \n",
    "A = jax.eval_shape(enormous_array)\n",
    "print(A.size / 1e9)\n",
    "A  # just the shape dtype struct"
   ]
  },
  {
   "cell_type": "code",
   "execution_count": 74,
   "id": "e45aab3a",
   "metadata": {},
   "outputs": [],
   "source": [
    "model = nnx.eval_shape(lambda: MNISTModel(rngs=nnx.Rngs(0)))"
   ]
  },
  {
   "cell_type": "markdown",
   "id": "fada079f",
   "metadata": {},
   "source": [
    "### Ahead of time compilation\n",
    "### [https://openxla.org/](https://openxla.org/)"
   ]
  },
  {
   "cell_type": "code",
   "execution_count": 75,
   "id": "bc6b68b7",
   "metadata": {},
   "outputs": [
    {
     "name": "stdout",
     "output_type": "stream",
     "text": [
      "HloModule jit_square, is_scheduled=true, entry_computation_layout={(f32[10]{0})->f32[10]{0}}, allow_spmd_sharding_propagation_to_output={true}, num_partitions=4, frontend_attributes={fingerprint_before_lhs=\"ce93082fa94e2ff761bfe7320f270018\"}\n",
      "\n",
      "%wrapped_multiply_computation (param_0: f32[10]) -> f32[10] {\n",
      "  %param_0 = f32[10]{0} parameter(0)\n",
      "  ROOT %multiply.4.1 = f32[10]{0} multiply(%param_0, %param_0), metadata={op_name=\"jit(square)/jit(main)/integer_pow\" source_file=\"/tmp/ipykernel_67100/3010437327.py\" source_line=3}\n",
      "}\n",
      "\n",
      "ENTRY %main.3_spmd (param: f32[10]) -> f32[10] {\n",
      "  %param = f32[10]{0} parameter(0), sharding={replicated}, metadata={op_name=\"x\"}\n",
      "  ROOT %wrapped_multiply = f32[10]{0} fusion(%param), kind=kLoop, calls=%wrapped_multiply_computation, metadata={op_name=\"jit(square)/jit(main)/integer_pow\" source_file=\"/tmp/ipykernel_67100/3010437327.py\" source_line=3}\n",
      "}\n",
      "\n",
      "\n"
     ]
    }
   ],
   "source": [
    "@jax.jit\n",
    "def square(x):\n",
    "  return x ** 2\n",
    "  \n",
    "fn = square.lower(jnp.ones(10)).compile()\n",
    "print(fn.as_text())"
   ]
  },
  {
   "cell_type": "code",
   "execution_count": 76,
   "id": "2dca7f84",
   "metadata": {},
   "outputs": [
    {
     "name": "stdout",
     "output_type": "stream",
     "text": [
      "HloModule jit_square, is_scheduled=true, entry_computation_layout={(f32[1125899906842624]{0})->f32[1125899906842624]{0}}, allow_spmd_sharding_propagation_to_parameters={true}, allow_spmd_sharding_propagation_to_output={true}, num_partitions=4, frontend_attributes={fingerprint_before_lhs=\"b226c57c56f381dea09c3d21ee0fada6\"}\n",
      "\n",
      "%wrapped_multiply_computation (param_0: f32[1125899906842624]) -> f32[1125899906842624] {\n",
      "  %param_0 = f32[1125899906842624]{0} parameter(0)\n",
      "  ROOT %multiply.4.1 = f32[1125899906842624]{0} multiply(%param_0, %param_0), metadata={op_name=\"jit(square)/jit(main)/integer_pow\" source_file=\"/tmp/ipykernel_67100/3010437327.py\" source_line=3}\n",
      "}\n",
      "\n",
      "ENTRY %main.3_spmd (param: f32[1125899906842624]) -> f32[1125899906842624] {\n",
      "  %param = f32[1125899906842624]{0} parameter(0), sharding={replicated}, metadata={op_name=\"x\"}\n",
      "  ROOT %wrapped_multiply = f32[1125899906842624]{0} fusion(%param), kind=kLoop, calls=%wrapped_multiply_computation, metadata={op_name=\"jit(square)/jit(main)/integer_pow\" source_file=\"/tmp/ipykernel_67100/3010437327.py\" source_line=3}\n",
      "}\n",
      "\n",
      "\n"
     ]
    },
    {
     "name": "stderr",
     "output_type": "stream",
     "text": [
      "2025-04-25 21:10:48.416238: E external/xla/xla/service/gpu/gpu_hlo_schedule.cc:652] The byte size of input/output arguments (9007199254740992) exceeds the base limit (31805177856). This indicates an error in the calculation!\n",
      "2025-04-25 21:10:48.416455: W external/xla/xla/hlo/transforms/simplifiers/hlo_rematerialization.cc:3021] Can't reduce memory use below 0B (0 bytes) by rematerialization; only reduced to 4.00PiB (4503599627370496 bytes), down from 4.00PiB (4503599627370496 bytes) originally\n"
     ]
    }
   ],
   "source": [
    "# works with abstract values, but XLA will warn you about trying to allocate Petabytes of data\n",
    "fn = square.lower(jax.ShapeDtypeStruct((2 ** 50,), jnp.float32)).compile()\n",
    "print(fn.as_text())"
   ]
  },
  {
   "cell_type": "code",
   "execution_count": 77,
   "id": "227bb524",
   "metadata": {},
   "outputs": [
    {
     "name": "stdout",
     "output_type": "stream",
     "text": [
      "Train step is 5096 lines of HLO\n"
     ]
    }
   ],
   "source": [
    "train_step_compiled = train_step.lower(imgs, classes, state, opt_state, axis=None).compile()\n",
    "print(f\"Train step is {len(train_step_compiled.as_text().split('\\n'))} lines of HLO\")"
   ]
  },
  {
   "cell_type": "markdown",
   "id": "9a1be9e5",
   "metadata": {},
   "source": [
    "<img src=\"images/escape_hatches.png\" style=\"max-width:900px\">\n",
    "<!--![images/escape_hatches.png](images/escape_hatches.png)-->"
   ]
  },
  {
   "cell_type": "markdown",
   "id": "19b96b20",
   "metadata": {},
   "source": [
    "### Explicit Communication: [shard_map](https://docs.jax.dev/en/latest/notebooks/shard_map.html)"
   ]
  },
  {
   "cell_type": "code",
   "execution_count": null,
   "id": "1bb0be4a",
   "metadata": {},
   "outputs": [],
   "source": [
    "from jax import numpy as jnp\n",
    "from jax.experimental.shard_map import shard_map\n",
    "\n",
    "\n",
    "@partial(shard_map, mesh=mesh, \n",
    "    in_specs=(P('x', 'y'), P('y', None)),\n",
    "    out_specs=P('x', None))\n",
    "def matmul_basic(a_block, b_block):\n",
    "  # a_block: f32[2, 8]\n",
    "  # b_block: f32[8, 4]\n",
    "\n",
    "  # compute\n",
    "  z_partialsum = jnp.dot(a_block, b_block)\n",
    "\n",
    "  # communicate\n",
    "  z_block = jax.lax.psum(z_partialsum, 'y')\n",
    "\n",
    "  # c_block: f32[2, 4]\n",
    "  return z_block"
   ]
  },
  {
   "cell_type": "markdown",
   "id": "1a66a57d",
   "metadata": {},
   "source": [
    "### Kernel languages: Pallas"
   ]
  },
  {
   "cell_type": "markdown",
   "id": "4de1802b",
   "metadata": {},
   "source": [
    "<img src=\"images/pallas.png\" style=\"max-width:900px\">\n",
    "<!--![images/pallas.png](images/pallas.png)-->"
   ]
  },
  {
   "cell_type": "markdown",
   "id": "598c00be",
   "metadata": {},
   "source": [
    "### Advanced checkpointing with Orbax\n",
    "### [https://github.com/google/orbax](https://github.com/google/orbax)"
   ]
  },
  {
   "cell_type": "markdown",
   "id": "15e64120",
   "metadata": {},
   "source": [
    "### High-performance LLM inference\n",
    "### [https://github.com/jax-ml/jax-llm-examples](https://github.com/jax-ml/jax-llm-examples)"
   ]
  }
 ],
 "metadata": {
  "kernelspec": {
   "display_name": "venv",
   "language": "python",
   "name": "python3"
  },
  "language_info": {
   "codemirror_mode": {
    "name": "ipython",
    "version": 3
   },
   "file_extension": ".py",
   "mimetype": "text/x-python",
   "name": "python",
   "nbconvert_exporter": "python",
   "pygments_lexer": "ipython3",
   "version": "3.12.3"
  }
 },
 "nbformat": 4,
 "nbformat_minor": 5
}
